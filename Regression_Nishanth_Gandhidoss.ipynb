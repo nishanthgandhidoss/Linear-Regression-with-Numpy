{
 "cells": [
  {
   "cell_type": "markdown",
   "metadata": {},
   "source": [
    ""
   ]
  },
  {
   "cell_type": "markdown",
   "metadata": {},
   "source": [
    "<h1 align=\"center\">Regression with NumPy</h1>"
   ]
  },
  {
   "cell_type": "markdown",
   "metadata": {},
   "source": [
    "<h2 align=\"center\">Assignment 1 - Regression</h2>"
   ]
  },
  {
   "cell_type": "code",
   "execution_count": null,
   "metadata": {},
   "outputs": [],
   "source": []
  },
  {
   "cell_type": "markdown",
   "metadata": {},
   "source": [
    "You are tasked to develop a regression model that best fits the data below. You will turn in a Jupyter notebook in PDF format that describes your method, and provides and demonstrates your code.\n",
    "\n",
    "All data sets are curated from the UCI Machine Learning repository.\n",
    "\n",
    "- Airfoil Self-Noise: https://archive.ics.uci.edu/ml/datasets/Airfoil+Self-Noise \n",
    "- Yacht Hydrodynamics: https://archive.ics.uci.edu/ml/datasets/Yacht+Hydrodynamics\n",
    "- Concrete Slump: https://archive.ics.uci.edu/ml/datasets/Concrete+Slump+Test"
   ]
  },
  {
   "cell_type": "markdown",
   "metadata": {},
   "source": [
    "## Importing packages"
   ]
  },
  {
   "cell_type": "code",
   "execution_count": 25,
   "metadata": {},
   "outputs": [
    {
     "data": {
      "text/html": [
       "\n",
       "    <div class=\"bk-root\">\n",
       "        <a href=\"https://bokeh.pydata.org\" target=\"_blank\" class=\"bk-logo bk-logo-small bk-logo-notebook\"></a>\n",
       "        <span id=\"2dc78c73-1f4f-43b9-a0dc-828e5a5d3d53\">Loading BokehJS ...</span>\n",
       "    </div>"
      ]
     },
     "metadata": {},
     "output_type": "execute_result"
    },
    {
     "data": {},
     "metadata": {},
     "output_type": "display_data"
    }
   ],
   "source": [
    "# Import Pandas\n",
    "import pandas as pd\n",
    "\n",
    "# Import Numpy\n",
    "import numpy as np\n",
    "\n",
    "# Import Random\n",
    "import random\n",
    "\n",
    "# Scipy Stats\n",
    "from scipy import stats\n",
    "\n",
    "# K FOld\n",
    "from sklearn.cross_validation import KFold\n",
    "\n",
    "# Import matplotlib pyplot\n",
    "from matplotlib import pyplot as plt\n",
    "\n",
    "# Import Bokeh\n",
    "import bokeh\n",
    "from bokeh.plotting import figure, output_file, show\n",
    "from bokeh.palettes import d3\n",
    "from bokeh.io import output_notebook\n",
    "from bokeh.models import Legend\n",
    "output_notebook()\n",
    "\n",
    "# Import warnings\n",
    "import warnings \n",
    "warnings.filterwarnings('ignore')"
   ]
  },
  {
   "cell_type": "markdown",
   "metadata": {},
   "source": [
    "## Reading the data from the web"
   ]
  },
  {
   "cell_type": "markdown",
   "metadata": {},
   "source": [
    "Let us first read the data from the web and store those into pandas dataframe for further processing."
   ]
  },
  {
   "cell_type": "code",
   "execution_count": 2,
   "metadata": {
    "collapsed": true
   },
   "outputs": [],
   "source": [
    "# Airfoil Self-Noise data\n",
    "airfoil_df = pd.read_table(\n",
    "    filepath_or_buffer = \"https://archive.ics.uci.edu/ml/machine-learning-databases/00291/airfoil_self_noise.dat\",\n",
    "    names = [\"Frequency\", \"Angle of attack\", \"Chord length\", \"Free-stream velocity\", \n",
    "             \"Suction side displacement\", \"Scaled sound pressure\"])\n",
    "\n",
    "# Yacht Hydrodynamics\n",
    "yacht_hydro_df = pd.read_table(\n",
    "    filepath_or_buffer = \"https://archive.ics.uci.edu/ml/machine-learning-databases/00243/yacht_hydrodynamics.data\",\n",
    "    names = [\"Longitudinal buoyancy\", \"Prismatic coefficient\", \"Length-displacement\", \"Beam-draught\", \n",
    "             \"Length-beam\", \"Froude number\", \"Residuary resistance\"], delim_whitespace = True)\n",
    "\n",
    "# Concrete Slump\n",
    "concrete_slump_df = pd.read_csv(\n",
    "    filepath_or_buffer = \"https://archive.ics.uci.edu/ml/machine-learning-databases/concrete/slump/slump_test.data\",\n",
    "    names = [\"Cement\", \"Slag\", \"Fly ash\", \"Water\", \"SP\", \"Coarse Aggr.\", \"Fine Aggr.\", \"SLUMP\", \"FLOW\",\n",
    "             \"Compressive Strength\"], skiprows = 1)"
   ]
  },
  {
   "cell_type": "markdown",
   "metadata": {},
   "source": [
    "As we have downloaded and imported those as pandas dataframe format here, lets verify that we have all the three dataset by viewing the top 5 rows in the dataset."
   ]
  },
  {
   "cell_type": "code",
   "execution_count": 3,
   "metadata": {},
   "outputs": [
    {
     "data": {
      "text/html": [
       "<div>\n",
       "<style>\n",
       "    .dataframe thead tr:only-child th {\n",
       "        text-align: right;\n",
       "    }\n",
       "\n",
       "    .dataframe thead th {\n",
       "        text-align: left;\n",
       "    }\n",
       "\n",
       "    .dataframe tbody tr th {\n",
       "        vertical-align: top;\n",
       "    }\n",
       "</style>\n",
       "<table border=\"1\" class=\"dataframe\">\n",
       "  <thead>\n",
       "    <tr style=\"text-align: right;\">\n",
       "      <th></th>\n",
       "      <th>Frequency</th>\n",
       "      <th>Angle of attack</th>\n",
       "      <th>Chord length</th>\n",
       "      <th>Free-stream velocity</th>\n",
       "      <th>Suction side displacement</th>\n",
       "      <th>Scaled sound pressure</th>\n",
       "    </tr>\n",
       "  </thead>\n",
       "  <tbody>\n",
       "    <tr>\n",
       "      <th>0</th>\n",
       "      <td>800</td>\n",
       "      <td>0.0</td>\n",
       "      <td>0.3048</td>\n",
       "      <td>71.3</td>\n",
       "      <td>0.002663</td>\n",
       "      <td>126.201</td>\n",
       "    </tr>\n",
       "    <tr>\n",
       "      <th>1</th>\n",
       "      <td>1000</td>\n",
       "      <td>0.0</td>\n",
       "      <td>0.3048</td>\n",
       "      <td>71.3</td>\n",
       "      <td>0.002663</td>\n",
       "      <td>125.201</td>\n",
       "    </tr>\n",
       "    <tr>\n",
       "      <th>2</th>\n",
       "      <td>1250</td>\n",
       "      <td>0.0</td>\n",
       "      <td>0.3048</td>\n",
       "      <td>71.3</td>\n",
       "      <td>0.002663</td>\n",
       "      <td>125.951</td>\n",
       "    </tr>\n",
       "    <tr>\n",
       "      <th>3</th>\n",
       "      <td>1600</td>\n",
       "      <td>0.0</td>\n",
       "      <td>0.3048</td>\n",
       "      <td>71.3</td>\n",
       "      <td>0.002663</td>\n",
       "      <td>127.591</td>\n",
       "    </tr>\n",
       "    <tr>\n",
       "      <th>4</th>\n",
       "      <td>2000</td>\n",
       "      <td>0.0</td>\n",
       "      <td>0.3048</td>\n",
       "      <td>71.3</td>\n",
       "      <td>0.002663</td>\n",
       "      <td>127.461</td>\n",
       "    </tr>\n",
       "  </tbody>\n",
       "</table>\n",
       "</div>"
      ],
      "text/plain": [
       "   Frequency  Angle of attack  Chord length  Free-stream velocity  \\\n",
       "0        800              0.0        0.3048                  71.3   \n",
       "1       1000              0.0        0.3048                  71.3   \n",
       "2       1250              0.0        0.3048                  71.3   \n",
       "3       1600              0.0        0.3048                  71.3   \n",
       "4       2000              0.0        0.3048                  71.3   \n",
       "\n",
       "   Suction side displacement  Scaled sound pressure  \n",
       "0                   0.002663                126.201  \n",
       "1                   0.002663                125.201  \n",
       "2                   0.002663                125.951  \n",
       "3                   0.002663                127.591  \n",
       "4                   0.002663                127.461  "
      ]
     },
     "execution_count": 3,
     "metadata": {},
     "output_type": "execute_result"
    }
   ],
   "source": [
    "airfoil_df.head()"
   ]
  },
  {
   "cell_type": "code",
   "execution_count": 4,
   "metadata": {},
   "outputs": [
    {
     "data": {
      "text/html": [
       "<div>\n",
       "<style>\n",
       "    .dataframe thead tr:only-child th {\n",
       "        text-align: right;\n",
       "    }\n",
       "\n",
       "    .dataframe thead th {\n",
       "        text-align: left;\n",
       "    }\n",
       "\n",
       "    .dataframe tbody tr th {\n",
       "        vertical-align: top;\n",
       "    }\n",
       "</style>\n",
       "<table border=\"1\" class=\"dataframe\">\n",
       "  <thead>\n",
       "    <tr style=\"text-align: right;\">\n",
       "      <th></th>\n",
       "      <th>Longitudinal buoyancy</th>\n",
       "      <th>Prismatic coefficient</th>\n",
       "      <th>Length-displacement</th>\n",
       "      <th>Beam-draught</th>\n",
       "      <th>Length-beam</th>\n",
       "      <th>Froude number</th>\n",
       "      <th>Residuary resistance</th>\n",
       "    </tr>\n",
       "  </thead>\n",
       "  <tbody>\n",
       "    <tr>\n",
       "      <th>0</th>\n",
       "      <td>-2.3</td>\n",
       "      <td>0.568</td>\n",
       "      <td>4.78</td>\n",
       "      <td>3.99</td>\n",
       "      <td>3.17</td>\n",
       "      <td>0.125</td>\n",
       "      <td>0.11</td>\n",
       "    </tr>\n",
       "    <tr>\n",
       "      <th>1</th>\n",
       "      <td>-2.3</td>\n",
       "      <td>0.568</td>\n",
       "      <td>4.78</td>\n",
       "      <td>3.99</td>\n",
       "      <td>3.17</td>\n",
       "      <td>0.150</td>\n",
       "      <td>0.27</td>\n",
       "    </tr>\n",
       "    <tr>\n",
       "      <th>2</th>\n",
       "      <td>-2.3</td>\n",
       "      <td>0.568</td>\n",
       "      <td>4.78</td>\n",
       "      <td>3.99</td>\n",
       "      <td>3.17</td>\n",
       "      <td>0.175</td>\n",
       "      <td>0.47</td>\n",
       "    </tr>\n",
       "    <tr>\n",
       "      <th>3</th>\n",
       "      <td>-2.3</td>\n",
       "      <td>0.568</td>\n",
       "      <td>4.78</td>\n",
       "      <td>3.99</td>\n",
       "      <td>3.17</td>\n",
       "      <td>0.200</td>\n",
       "      <td>0.78</td>\n",
       "    </tr>\n",
       "    <tr>\n",
       "      <th>4</th>\n",
       "      <td>-2.3</td>\n",
       "      <td>0.568</td>\n",
       "      <td>4.78</td>\n",
       "      <td>3.99</td>\n",
       "      <td>3.17</td>\n",
       "      <td>0.225</td>\n",
       "      <td>1.18</td>\n",
       "    </tr>\n",
       "  </tbody>\n",
       "</table>\n",
       "</div>"
      ],
      "text/plain": [
       "   Longitudinal buoyancy  Prismatic coefficient  Length-displacement  \\\n",
       "0                   -2.3                  0.568                 4.78   \n",
       "1                   -2.3                  0.568                 4.78   \n",
       "2                   -2.3                  0.568                 4.78   \n",
       "3                   -2.3                  0.568                 4.78   \n",
       "4                   -2.3                  0.568                 4.78   \n",
       "\n",
       "   Beam-draught  Length-beam  Froude number  Residuary resistance  \n",
       "0          3.99         3.17          0.125                  0.11  \n",
       "1          3.99         3.17          0.150                  0.27  \n",
       "2          3.99         3.17          0.175                  0.47  \n",
       "3          3.99         3.17          0.200                  0.78  \n",
       "4          3.99         3.17          0.225                  1.18  "
      ]
     },
     "execution_count": 4,
     "metadata": {},
     "output_type": "execute_result"
    }
   ],
   "source": [
    "yacht_hydro_df.head()"
   ]
  },
  {
   "cell_type": "code",
   "execution_count": 5,
   "metadata": {},
   "outputs": [
    {
     "data": {
      "text/html": [
       "<div>\n",
       "<style>\n",
       "    .dataframe thead tr:only-child th {\n",
       "        text-align: right;\n",
       "    }\n",
       "\n",
       "    .dataframe thead th {\n",
       "        text-align: left;\n",
       "    }\n",
       "\n",
       "    .dataframe tbody tr th {\n",
       "        vertical-align: top;\n",
       "    }\n",
       "</style>\n",
       "<table border=\"1\" class=\"dataframe\">\n",
       "  <thead>\n",
       "    <tr style=\"text-align: right;\">\n",
       "      <th></th>\n",
       "      <th>Cement</th>\n",
       "      <th>Slag</th>\n",
       "      <th>Fly ash</th>\n",
       "      <th>Water</th>\n",
       "      <th>SP</th>\n",
       "      <th>Coarse Aggr.</th>\n",
       "      <th>Fine Aggr.</th>\n",
       "      <th>SLUMP</th>\n",
       "      <th>FLOW</th>\n",
       "      <th>Compressive Strength</th>\n",
       "    </tr>\n",
       "  </thead>\n",
       "  <tbody>\n",
       "    <tr>\n",
       "      <th>1</th>\n",
       "      <td>273.0</td>\n",
       "      <td>82.0</td>\n",
       "      <td>105.0</td>\n",
       "      <td>210.0</td>\n",
       "      <td>9.0</td>\n",
       "      <td>904.0</td>\n",
       "      <td>680.0</td>\n",
       "      <td>23.0</td>\n",
       "      <td>62.0</td>\n",
       "      <td>34.99</td>\n",
       "    </tr>\n",
       "    <tr>\n",
       "      <th>2</th>\n",
       "      <td>163.0</td>\n",
       "      <td>149.0</td>\n",
       "      <td>191.0</td>\n",
       "      <td>180.0</td>\n",
       "      <td>12.0</td>\n",
       "      <td>843.0</td>\n",
       "      <td>746.0</td>\n",
       "      <td>0.0</td>\n",
       "      <td>20.0</td>\n",
       "      <td>41.14</td>\n",
       "    </tr>\n",
       "    <tr>\n",
       "      <th>3</th>\n",
       "      <td>162.0</td>\n",
       "      <td>148.0</td>\n",
       "      <td>191.0</td>\n",
       "      <td>179.0</td>\n",
       "      <td>16.0</td>\n",
       "      <td>840.0</td>\n",
       "      <td>743.0</td>\n",
       "      <td>1.0</td>\n",
       "      <td>20.0</td>\n",
       "      <td>41.81</td>\n",
       "    </tr>\n",
       "    <tr>\n",
       "      <th>4</th>\n",
       "      <td>162.0</td>\n",
       "      <td>148.0</td>\n",
       "      <td>190.0</td>\n",
       "      <td>179.0</td>\n",
       "      <td>19.0</td>\n",
       "      <td>838.0</td>\n",
       "      <td>741.0</td>\n",
       "      <td>3.0</td>\n",
       "      <td>21.5</td>\n",
       "      <td>42.08</td>\n",
       "    </tr>\n",
       "    <tr>\n",
       "      <th>5</th>\n",
       "      <td>154.0</td>\n",
       "      <td>112.0</td>\n",
       "      <td>144.0</td>\n",
       "      <td>220.0</td>\n",
       "      <td>10.0</td>\n",
       "      <td>923.0</td>\n",
       "      <td>658.0</td>\n",
       "      <td>20.0</td>\n",
       "      <td>64.0</td>\n",
       "      <td>26.82</td>\n",
       "    </tr>\n",
       "  </tbody>\n",
       "</table>\n",
       "</div>"
      ],
      "text/plain": [
       "   Cement   Slag  Fly ash  Water    SP  Coarse Aggr.  Fine Aggr.  SLUMP  FLOW  \\\n",
       "1   273.0   82.0    105.0  210.0   9.0         904.0       680.0   23.0  62.0   \n",
       "2   163.0  149.0    191.0  180.0  12.0         843.0       746.0    0.0  20.0   \n",
       "3   162.0  148.0    191.0  179.0  16.0         840.0       743.0    1.0  20.0   \n",
       "4   162.0  148.0    190.0  179.0  19.0         838.0       741.0    3.0  21.5   \n",
       "5   154.0  112.0    144.0  220.0  10.0         923.0       658.0   20.0  64.0   \n",
       "\n",
       "   Compressive Strength  \n",
       "1                 34.99  \n",
       "2                 41.14  \n",
       "3                 41.81  \n",
       "4                 42.08  \n",
       "5                 26.82  "
      ]
     },
     "execution_count": 5,
     "metadata": {},
     "output_type": "execute_result"
    }
   ],
   "source": [
    "concrete_slump_df.head()"
   ]
  },
  {
   "cell_type": "markdown",
   "metadata": {},
   "source": [
    "## Question 1"
   ]
  },
  {
   "cell_type": "markdown",
   "metadata": {},
   "source": [
    "Develop a function with the following first line:\n",
    "\n",
    "def my_regression(trainX, testX, noutputs)\n",
    "\n",
    "The input variables are:\n",
    "\n",
    "- trainX - an [ntrain x (nfeature + noutputs)] array that contains the features in the first 'nfeature' columns and the outputs in the last 'noutput' columns\n",
    "- testX - an [ntest x nfeature] array of test data for which the predictions are made\n",
    "- noutputs - the number of output columns in trainX\n",
    "\n",
    "The output should be an [ntest x noutputs] array, which contains the prediction values for the testX data.\n",
    "Your my_regression code should do some kind of cross-validation to determine the right model for the training data, e.g., linear vs. polynomial vs. radial basis functions. Then this model is applied to the test data to make a prediction.\n",
    "\n",
    "### Rules:\n",
    "\n",
    "- Your code should not use any regression library, but can use NumPy as this will be useful for array handling.\n",
    "- No other inputs are allowed.\n",
    "- You may not use the testX data to train your model. Notice that outputs are not passed in for testing data.\n",
    "- Your code can perform data scaling (scaling features to the interval [0,1] or z-score scaling), can use any basis functions you want, cross-validation on the training data, regularization, and model selection.\n",
    "\n",
    "Present your findings for each data set as a Jupyter notebook. Submit as a PDF. Present your squared error for several cross-validation fold of each data set."
   ]
  },
  {
   "cell_type": "markdown",
   "metadata": {
    "collapsed": true
   },
   "source": [
    "## Solution"
   ]
  },
  {
   "cell_type": "markdown",
   "metadata": {
    "collapsed": true
   },
   "source": [
    "I am dividing the whole project into three components which are as follows\n",
    "\n",
    "- Data Processing\n",
    "- Regression \n",
    "- Regression Plots\n",
    "\n",
    "Each components listed above will be coded as seperate python classes and can be reused. The doc string are written for each classes and functions within the classes. Although, I am just setting the seed value for reproduciable research purpose."
   ]
  },
  {
   "cell_type": "code",
   "execution_count": 6,
   "metadata": {
    "collapsed": true
   },
   "outputs": [],
   "source": [
    "# Setting the seed value\n",
    "seed = 123\n",
    "import random\n",
    "random.seed(seed)\n",
    "np.random.seed(seed)"
   ]
  },
  {
   "cell_type": "markdown",
   "metadata": {
    "collapsed": true
   },
   "source": [
    "### Data Processing"
   ]
  },
  {
   "cell_type": "code",
   "execution_count": 7,
   "metadata": {
    "collapsed": true
   },
   "outputs": [],
   "source": [
    "class DataProcessing:\n",
    "    \"\"\"Data Processing opertation \n",
    "    \n",
    "    Processing of data such as Normalization, spliting the data,\n",
    "    folding the data can be performed on the pandas dataframe\n",
    "    \n",
    "    Arguments:\n",
    "        Pandas dataframe that need to processed\n",
    "    \"\"\"\n",
    "    \n",
    "    def __init__(self):\n",
    "        \"\"\"Variable Initialization\n",
    "        \n",
    "        Initialize the class variables which can be accessed using \n",
    "        the self or class objects\n",
    "        \n",
    "        Arguments:\n",
    "            None\n",
    "        Returns:\n",
    "             None\n",
    "        \"\"\"\n",
    "        pass\n",
    "    \n",
    "    def z_score_norm(self, data):\n",
    "        \"\"\"Normalize the data using z-score\n",
    "        \n",
    "        Normalize the data which is mostly a pandas dataframe and \n",
    "        outputs normalized dataframe of the same using z-score \n",
    "        normalization.https://en.wikipedia.org/wiki/Standard_score\n",
    "        \n",
    "        Arguments:\n",
    "            data: Pandas Dataframe to be normalized\n",
    "            \n",
    "        Returns:\n",
    "            Normalized Pandas Dataframe\n",
    "        \"\"\"\n",
    "        # Finding the z-score using mean and standard deviation of each column\n",
    "        # Broadcasting is applied over the data\n",
    "        normalized_df = (data - data.mean()) / data.std()\n",
    "        return pd.DataFrame(normalized_df)\n",
    "    \n",
    "    def train_test_split(self, data, cut_at = 0.75):\n",
    "        \"\"\" Data is split into train and test set\n",
    "        \n",
    "        Split the data set into two random chuncks of train and test set \n",
    "        using the cut_at value. The cut_at value literally means how much \n",
    "        percentage of data you want to be in the training set and rest\n",
    "        of those goes to the testing set.\n",
    "        \n",
    "        Arguments:\n",
    "            data: Pandas Dataframe to be split into train and test\n",
    "            cut_at: Threshold for what percentage of data needs top be \n",
    "                in the training set. Ranges from 0 to 1. Default to 0.75\n",
    "                \n",
    "        Returns:\n",
    "            train: Training set of the data\n",
    "            test: Testing set of the data\n",
    "        \"\"\"\n",
    "        # Random sample of the train set is acquired\n",
    "        train = data.sample(frac = cut_at, random_state = 200)\n",
    "        # Rest are put in the test set\n",
    "        test = data.drop(train.index)\n",
    "        return train, test\n",
    "    \n",
    "    def pred_target_split(self, data, noutputs = 1):\n",
    "        \"\"\" Split the Predictors and output variables\n",
    "        \n",
    "        The Input data variable is take and predictors and n-output vectors \n",
    "        are drawn out of the complete data. Note that this function works only\n",
    "        when the output varibles are end/last column of the data.\n",
    "        \n",
    "        Arguments:\n",
    "            data: Pandas Dataframe to be split into Predictors and target\n",
    "            noutputs: Number of output variables in the dataset. Default to 1\n",
    "            \n",
    "        Returns:\n",
    "            predictors: Predictors of the data\n",
    "            outputs: Output variable of the data\n",
    "        \"\"\"\n",
    "        # Subsetting the predictors \n",
    "        predictors = data.iloc[:, 0:-noutputs]\n",
    "        # Subsetting the outputs\n",
    "        outputs = data.iloc[:, -noutputs:]\n",
    "        return predictors, outputs\n",
    "    \n",
    "    def k_fold(self, data, k = 7):\n",
    "        \"\"\" Create K folds of the data\n",
    "        \n",
    "        Data is split into K number of chunks depending on the k argument of \n",
    "        the function that can be used up for the cross validation purpose.\n",
    "        \n",
    "        Arguments:\n",
    "            data: Pandas Dataframe to be split into K Folds\n",
    "            k: Number of folds. Default to 7\n",
    "            \n",
    "        Returns:\n",
    "            index: Row index for each train and test set of the folds\n",
    "        \"\"\"\n",
    "        # Creating K-Fold cross validation index.\n",
    "        index = KFold(len(data), n_folds = k)\n",
    "        return index"
   ]
  },
  {
   "cell_type": "markdown",
   "metadata": {},
   "source": [
    "### Regression"
   ]
  },
  {
   "cell_type": "code",
   "execution_count": 8,
   "metadata": {
    "collapsed": true
   },
   "outputs": [],
   "source": [
    "class Regression:\n",
    "    \"\"\"Perform regression on data\n",
    "    \n",
    "    Looks over the predictor and target outputs with linear and Gaussian\n",
    "    basis function with different lamda values and doing the model selection\n",
    "    based on k-fold cross validation on the metrics of least mean sum of \n",
    "    squares error value.\n",
    "    \n",
    "    Arguments:\n",
    "        k_fold: Number of folds of the data used for the model selection\n",
    "        lamda_values: List of float values generally of increasing log scale\n",
    "            that are used in the closed solution to find best optimal lamda \n",
    "            for the final model.\n",
    "    \"\"\"\n",
    "    \n",
    "    # Creating the data Processing object for training data\n",
    "    data_process = DataProcessing()\n",
    "    \n",
    "    def __init__(self, k_fold = 7):\n",
    "        self.k_fold = k_fold\n",
    "        self.lamda_values = [0, 0.0001, 0.001, 0.01, 0.1, 0, 1, 10, 100]\n",
    "        self.kernels = [\"linear\", \"gaussian\"]\n",
    "        self.parameters_list = []\n",
    "        self.n_points = 10\n",
    "        self.model_param = []\n",
    "        \n",
    "    def lmse(self, actual, pred):\n",
    "        \"\"\" Find the Prediction LMSE\n",
    "        \n",
    "        LMSE -  Least Mean Square Error is the average squared difference \n",
    "        between the prediction and actual values. The inputs are actual and \n",
    "        predicted values that outputs the LMSE rounded off to two digits.\n",
    "        \n",
    "        Arguments:\n",
    "            actual: Actual value from the dataset. continuous value.\n",
    "            pred: Predicted value for the data. continuous value.\n",
    "            \n",
    "        Returns:\n",
    "            lmse: Least Mean Square Error value\n",
    "        \"\"\"\n",
    "        # Computing the LMSE and rounding of to two digits\n",
    "        lmse = round(np.sum((actual - pred) ** 2) / len(actual), 2)\n",
    "        return lmse\n",
    "\n",
    "    def gaussian_kernel(self, data, n_points = 10):\n",
    "        \"\"\" Apply gaussian function on the data \n",
    "        \n",
    "        Dataset with x feature vector is passed over the n - gaussian function that\n",
    "        is computed using random pick of observation from the dataset and converted \n",
    "        into n feauture vectors from x features. This makes the data to be around your\n",
    "        n data points you selected.\n",
    "        \n",
    "        Arguments:\n",
    "            data: Data to be changed into gaussian form\n",
    "            n_points: Number of gaussian kernels/functions/points to refine into\n",
    "        \n",
    "        Returns:\n",
    "            gaussian: N feature vectors represetation of the input dataset.\n",
    "        \"\"\"\n",
    "        # Set the sigma value to be no. of original features\n",
    "        sigma = data.shape[1]\n",
    "        # Setting the random seed and sampling the points from the data\n",
    "        random.seed(100)\n",
    "        points = random.sample(list(data.index), n_points)\n",
    "        # Initialize the gaussian kernel feature vector\n",
    "        gaussian = np.zeros((data.shape[0], n_points))\n",
    "        col = 0\n",
    "        # Iterate through the n points to come up with n gaussian feauture vectors\n",
    "        for point in points:\n",
    "            gaussian[:, col] = np.exp(-np.linalg.norm(data - data.loc[point, :], 2, axis = 1) ** 2 \n",
    "                                      / (2. * sigma ** 2))\n",
    "            col += 1\n",
    "        return gaussian\n",
    "    \n",
    "    def cv_fit(self, x_train, y_train, k_fold):\n",
    "        \"\"\" Model Selection using Cross validation\n",
    "        \n",
    "        Selecting the best fit regression model and hyper parameters such \n",
    "        as lamda and basis functions using cross validation on the feauture \n",
    "        vectors and our output variable(s) and linear regression's closed\n",
    "        form solution.\n",
    "        \n",
    "        Arguments:\n",
    "            x_train: Predictors of the Training set\n",
    "            y_train: Output of the Training set\n",
    "            k_fold: Number of fold for the cross validation\n",
    "            \n",
    "        Returns:\n",
    "            model_param: A dictinoary consists of selected model weights, \n",
    "                lamda value, lmse value, and kernel functions\n",
    "        \"\"\"\n",
    "        \n",
    "        # Initialize variables \n",
    "        weights = np.zeros((x_train.shape[1],))\n",
    "        best_weights = weights\n",
    "        identity = np.identity(x_train.shape[1])\n",
    "        best_lmse = float(\"inf\")\n",
    "        best_lamda = 0.\n",
    "        best_kernel = \"\"\n",
    "        \n",
    "        # K Fold cross validation index generetion\n",
    "        cv = self.data_process.k_fold(data = x_train, k = k_fold)\n",
    "        \n",
    "        # Looping through the basis function\n",
    "        for kernel in self.kernels:\n",
    "            # Chacking the Gaussian function\n",
    "            if kernel is \"gaussian\":\n",
    "                x_train = self.gaussian_kernel(pd.DataFrame(x_train), self.n_points)\n",
    "                identity = np.identity(x_train.shape[1])\n",
    "            # Looping through Lamda\n",
    "            for lamda in self.lamda_values:\n",
    "                lmse = 0\n",
    "                for train_cv, test_cv in cv:\n",
    "                    # Split up the train and test for each iteration\n",
    "                    x_train_cv = x_train[train_cv]\n",
    "                    y_train_cv = y_train[train_cv]\n",
    "                    x_test_cv = x_train[test_cv]\n",
    "                    y_test_cv = y_train[test_cv]\n",
    "                    # Closed form solution for each lamda values\n",
    "                    inverse = np.linalg.inv(lamda*identity + np.dot(x_train_cv.T, x_train_cv))\n",
    "                    data_term = np.dot(x_train_cv.T, y_train_cv)\n",
    "                    weights = np.dot(inverse, data_term)\n",
    "                    # Predict with the test set\n",
    "                    prediction = np.dot(x_test_cv, weights)\n",
    "                    # Find the LMSE value for the set\n",
    "                    lmse += (np.sum((y_test_cv - prediction) ** 2) / len(y_test_cv))\n",
    "                # LMSE for each lamda\n",
    "                lmse = lmse / k_fold\n",
    "                # Preparing the parameter list for further analysis\n",
    "                # Storing the result in class variable\n",
    "                parameters = {'basis_function': kernel, \n",
    "                              'lamda': lamda,\n",
    "                              'lmse': lmse,\n",
    "                              'weights': weights}\n",
    "                self.parameters_list.append(parameters)\n",
    "                # Update the best parameters\n",
    "                if best_lmse > lmse:\n",
    "                    best_lmse = lmse\n",
    "                    best_lamda = lamda\n",
    "                    best_weights = weights\n",
    "                    best_kernel = kernel \n",
    "        model_param = {\"weights\": best_weights, \"kernel\": best_kernel, \"lamda\": best_lamda, \"lmse\": best_lmse}\n",
    "        self.model_param.append(model_param)\n",
    "        return model_param\n",
    "\n",
    "    def my_regression(self, trainX, testX, noutputs):\n",
    "        \"\"\" Make Prediction for continuous output(s)\n",
    "        \n",
    "        Takes training set and performs cross validation to select the best \n",
    "        parameter (lamda value of the closed form solution, basis function) \n",
    "        for the model selection and use that model on the testing set to \n",
    "        output the prediction for the testing data.\n",
    "        \n",
    "        Arguments:\n",
    "            trainX - an [ntrain x (nfeature + noutputs)] array that contains\n",
    "                the features in the first 'nfeature' columns and the outputs \n",
    "                in the last 'noutput' columns\n",
    "            testX - an [ntest x nfeature] array of test data for which the \n",
    "                predictions are made\n",
    "            noutputs - the number of output columns in trainX\n",
    "            \n",
    "        Returns:\n",
    "            prediction: [ntest x noutputs] array, which contains the prediction \n",
    "                values for the testX data\n",
    "        \"\"\"        \n",
    "        # Normalize the train and test data\n",
    "        trainX.iloc[:, 0:-noutputs] = self.data_process.z_score_norm(trainX.iloc[:, 0:-noutputs])\n",
    "        testX = self.data_process.z_score_norm(testX)        \n",
    "        # Split the train data into predictors and target variables\n",
    "        x_train, y_train = self.data_process.pred_target_split(trainX, noutputs = noutputs)              \n",
    "        # Include the bias term in the feature vector at the last\n",
    "        x_train[\"bias\"] = 1\n",
    "        testX[\"bias\"] = 1\n",
    "        # Convert Dataframe to Numpy array\n",
    "        x_train = x_train.values\n",
    "        y_train = y_train.values \n",
    "        # Intializing the prediction array with zeros\n",
    "        prediction = np.zeros((testX.shape[0], noutputs)) \n",
    "        # Get the best fit for the data with cross validation\n",
    "        model = self.cv_fit(x_train, y_train, self.k_fold)\n",
    "        # Check if the kernel is gaussian\n",
    "        if model[\"kernel\"] is \"gaussian\":\n",
    "            # Redefine in gaussian feature\n",
    "            gaus = self.gaussian_kernel(pd.DataFrame(np.concatenate((x_train, testX.values))),\n",
    "                                                self.n_points)\n",
    "            x_train_gaus = gaus[0:len(x_train), :]  \n",
    "            x_test_gaus = gaus[len(x_train):, :]\n",
    "            # Initialize the identity matrix\n",
    "            identity = np.identity(x_train_gaus.shape[1])\n",
    "            # Train with the whole training data\n",
    "            inverse = np.linalg.inv(model[\"lamda\"] * identity + np.dot(x_train_gaus.T, x_train_gaus))\n",
    "            data_term = np.dot(x_train_gaus.T, y_train)\n",
    "            weights = np.dot(inverse, data_term)\n",
    "            # Predict with the test data\n",
    "            # Inverse/rescale for the z-score norm\n",
    "            prediction = np.dot(x_test_gaus, weights)\n",
    "        else:\n",
    "            # Initialize the identity matrix\n",
    "            identity = np.identity(x_train.shape[1])\n",
    "            # Train with the whole training data\n",
    "            inverse = np.linalg.inv(model[\"lamda\"] * identity + np.dot(x_train.T, x_train))\n",
    "            data_term = np.dot(x_train.T, y_train)\n",
    "            weights = np.dot(inverse, data_term)\n",
    "            # Predict with the test data\n",
    "            # Inverse/rescale for the z-score norm\n",
    "            prediction = np.dot(testX.values, weights)\n",
    "        return prediction"
   ]
  },
  {
   "cell_type": "markdown",
   "metadata": {},
   "source": [
    "Above we had our main two classes that contains the function needed for calculating the regression using numpy packages. Let's use those find the prediction for each dataset one by one."
   ]
  },
  {
   "cell_type": "markdown",
   "metadata": {},
   "source": [
    "## Airfoil dataset"
   ]
  },
  {
   "cell_type": "code",
   "execution_count": 9,
   "metadata": {
    "scrolled": false
   },
   "outputs": [
    {
     "data": {
      "text/plain": [
       "array([ 127.33113782,  117.64481597,  126.01235471,  125.51458539,\n",
       "        125.17825477,  113.40668309,  125.01623034,  123.60364173,\n",
       "        123.81723075,  123.14456951,  126.35294204,  126.01661142,\n",
       "        122.3169746 ,  116.93568469,  124.01837754,  123.48024855,\n",
       "        123.21118406,  121.19320034,  120.31874073,  119.17521662,\n",
       "        116.08097492,  113.79392671,  126.41941243,  126.28488018,\n",
       "        125.88128344,  125.27588832,  124.26689647,  122.71977562,\n",
       "        113.50431664,  123.25280345,  119.55316663,  117.06432005,\n",
       "        122.4359302 ,  119.61075299,  114.49852757,  125.76947722,\n",
       "        125.5945853 ,  125.09681598,  124.28962249,  121.06084855,\n",
       "        112.98891367,  109.62560748,  122.83163405,  122.40785747,\n",
       "        119.89210443,  119.01764482,  129.55299226,  129.08212939,\n",
       "        128.5440004 ,  126.99687955,  125.85335544,  128.61387593,\n",
       "        127.53761794,  126.99948895,  127.27286116,  127.04415634,\n",
       "        125.42976937,  124.75710813,  121.39380193,  126.90507054,\n",
       "        126.79071813,  129.64223344,  128.63324158,  127.07938639,\n",
       "        123.37974957,  126.63812342,  124.48560745,  122.9384866 ,\n",
       "        118.7007208 ,  125.02759942,  124.22040593,  115.89287261,\n",
       "        102.43964783,  127.10680739,  122.39817872,  121.05285624,\n",
       "        125.50142095,  125.32652903,  124.82875971,  122.81077599,\n",
       "        125.0183416 ,  127.78580505,  127.55710023,  127.28803574,\n",
       "        125.94271326,  123.2520683 ,  124.34822112,  124.07915662,\n",
       "        121.18671329,  120.04318919,  116.94894749,  125.88018186,\n",
       "        124.80392388,  118.48090823,  124.88962225,  123.96807635,\n",
       "        123.63174573,  121.95009263,  123.2484642 ,  120.22148862,\n",
       "        121.82165546,  120.51669266,  119.97856367,  115.94259623,\n",
       "        131.91357794,  130.70278771,  129.8283281 ,  128.68480399,\n",
       "        127.33948152,  120.61286912,  117.24956293,  121.76274319,\n",
       "        130.11408813,  128.49309202,  127.48410016,  121.6992135 ,\n",
       "        131.78596026,  130.17157329,  129.49891205,  127.48092833,\n",
       "        124.38668663,  129.05531239,  128.88042047,  126.36466744,\n",
       "        124.34668372,  116.27474885,  130.86109184,  127.29598727,\n",
       "        129.42208132,  128.88395233,  125.7224445 ,  124.5789204 ,\n",
       "        121.4846787 ,  119.19763048,  127.80555641,  127.26742742,\n",
       "        126.6620323 ,  125.65304045,  119.86815379,  126.66793035,\n",
       "        126.43922553,  123.27771771,  120.78887112,  129.69238783,\n",
       "        128.07800086,  124.84922691,  116.77729204,  126.49220362,\n",
       "        125.83972222,  125.57065773,  124.22533525,  122.6782144 ,\n",
       "        113.46275542,  126.32154528,  126.09284045,  125.01658247,\n",
       "        122.93133263,  121.78780852,  125.11886578,  125.05159966,\n",
       "        124.84980128,  124.0426078 ,  120.00664036,  123.16757738,\n",
       "        119.19887606,  121.27048751,  118.10897969,  113.87121388,\n",
       "        120.8447705 ,  120.75732454,  120.50843988,  115.7998112 ,\n",
       "        114.45448873,  112.7055695 ,  116.08290587,  115.88110749,\n",
       "        107.94370487,  136.51846965,  135.71127616,  132.48250221,\n",
       "        124.41056734,  133.65044708,  132.97778584,  130.95980212,\n",
       "        129.61447964,  133.46202212,  132.11669964,  126.33181298,\n",
       "        123.28178199,  130.71487735,  125.33358744,  131.34997326,\n",
       "        128.79386055,  124.55609474,  131.63610669,  128.40733274,\n",
       "        131.57085739,  131.39596547,  131.16726065,  128.00575283,\n",
       "        130.14042428,  129.83100011,  128.5260373 ,  127.20367959,\n",
       "        124.51303463,  130.92869735,  130.65963285,  130.12150386,\n",
       "        129.51610875,  125.81647193,  127.13679438,  126.90808956,\n",
       "        122.60305763,  122.0677798 ,  118.9735381 ,  125.37624142,\n",
       "        123.64750204,  117.32448639,  123.82114566,  123.55208116,\n",
       "        123.41754891,  117.36359776,  122.35985795,  122.13115313,\n",
       "        121.52575801,  124.02912643,  123.78024177,  123.60534984,\n",
       "        123.10758053,  122.30038704,  121.76225805,  120.73442799,\n",
       "        120.5797159 ,  120.46536349,  120.15593932,  117.64018629,\n",
       "        134.59671167,  132.10786509,  130.35894586,  117.30931782,\n",
       "        133.09138567,  125.0194508 ,  133.3389796 ,  131.6573265 ,\n",
       "        113.49547304,  133.50835964,  128.62182139,  121.89520899,\n",
       "        118.5319028 ,  133.14128395,  132.96639203,  131.66142923,\n",
       "        129.57617938,  128.43265528,  120.36072041,  132.20290462,\n",
       "        131.36880469,  130.35981283,  127.66916787,  133.10874695,\n",
       "        127.72745704,  125.97853782,  132.37619171,  130.22367574,\n",
       "        130.68415483,  130.28055809,  125.97552615,  130.03953688,\n",
       "        129.90500463,  129.73011271,  129.50140789,  127.88702092,\n",
       "        123.85105348,  130.76599766,  130.49693317,  129.68973968,\n",
       "        121.07967582,  127.97847401,  127.80358209,  127.57487727,\n",
       "        127.30581277,  124.41336944,  123.26984534,  115.19791047,\n",
       "        128.48112291,  127.64702297,  127.17616011,  125.09091026,\n",
       "        120.85314446,  118.56609624,  127.30661609,  127.19226368,\n",
       "        126.65413469,  126.04873957,  125.5778767 ,  125.82229032,\n",
       "        125.66757824,  125.55322583,  125.41869358,  125.01509684,\n",
       "        122.72804862,  121.85358901,  119.36474243,  124.71856329,\n",
       "        123.57503918,  122.56604733,  126.00154509,  125.1943516 ,\n",
       "        123.84902912,  121.15838417,  118.06414246,  115.77709425,\n",
       "        122.97073634,  121.08728487,  135.11041456,  133.80545176,\n",
       "        132.59466153,  131.72020192,  130.57667781,  122.50474294,\n",
       "        133.34412588,  129.03909395,  123.65780403,  120.96715907,\n",
       "        117.60385288,  131.52202572,  122.10476837,  129.94891915,\n",
       "        128.73812892,  123.62590351,  133.17669665,  127.79540673,\n",
       "        132.1243734 ,  129.60862036,  122.20934673,  130.55488643,\n",
       "        129.7207865 ,  128.71179464,  122.92690798,  120.63985976,\n",
       "        129.78466569,  127.94157389,  131.3725232 ,  130.02720073,\n",
       "        128.48007988,  127.76229734,  128.96255334,  128.17780845,\n",
       "        127.37061496,  127.03428434,  126.56342147,  126.02529248,\n",
       "        130.64575345,  125.53352803,  127.16556546,  126.96376709,\n",
       "        126.82923484,  126.4256381 ,  124.9205818 ,  124.74568987,\n",
       "        120.21195312,  117.11771142,  122.70976329,  121.87566336,\n",
       "        115.08178484,  120.6762143 ,  119.66722244,  117.11110973,\n",
       "        120.14220261,  119.98749052,  119.06594463,  117.72062215,\n",
       "        122.27088347,  122.18343751,  121.75966093,  116.6651683 ])"
      ]
     },
     "execution_count": 9,
     "metadata": {},
     "output_type": "execute_result"
    }
   ],
   "source": [
    "airfoil_regressor = Regression()\n",
    "airfoil_data_process = DataProcessing()\n",
    "airfoil_df_train, airfoil_df_test = airfoil_data_process.train_test_split(airfoil_df)\n",
    "prediction = airfoil_regressor.my_regression(airfoil_df_train, airfoil_df_test.iloc[:, 0:-1], 1)\n",
    "prediction.reshape(len(prediction), )"
   ]
  },
  {
   "cell_type": "markdown",
   "metadata": {},
   "source": [
    "Above we have the prediction values for the airfoil dataset using the selected model on the test set. Lets us see what are parameters used for the model using the model param variable of the regressor class object."
   ]
  },
  {
   "cell_type": "code",
   "execution_count": 10,
   "metadata": {},
   "outputs": [
    {
     "data": {
      "text/plain": [
       "[{'kernel': 'linear',\n",
       "  'lamda': 0.1,\n",
       "  'lmse': 23.665798767415858,\n",
       "  'weights': array([[  -4.10692447],\n",
       "         [  -2.40935473],\n",
       "         [  -3.39686533],\n",
       "         [   1.47280792],\n",
       "         [  -2.06332953],\n",
       "         [ 124.79044843]])}]"
      ]
     },
     "execution_count": 10,
     "metadata": {},
     "output_type": "execute_result"
    }
   ],
   "source": [
    "airfoil_regressor.model_param"
   ]
  },
  {
   "cell_type": "markdown",
   "metadata": {},
   "source": [
    "Thus we can see clearly that the best model for the airfoil dataset after 10 fold cross validation model selection has the following parameters and values\n",
    "\n",
    "- Kernel : Linear\n",
    "- Lamda value : 0.1\n",
    "- Least Mean Square Error value: ~23.67\n",
    "\n",
    "Lets us the see how the best model is performing over the test data we set apart at first itself using least mean square value."
   ]
  },
  {
   "cell_type": "code",
   "execution_count": 11,
   "metadata": {},
   "outputs": [
    {
     "name": "stdout",
     "output_type": "stream",
     "text": [
      "22.33\n"
     ]
    }
   ],
   "source": [
    "lmse = airfoil_regressor.lmse(airfoil_df_test.iloc[:, -1].values.reshape(len(airfoil_df_test), 1), prediction)\n",
    "print(lmse)"
   ]
  },
  {
   "cell_type": "markdown",
   "metadata": {},
   "source": [
    "Thus we have Least Mean Square Error of 22.33 on the test set using Linear basis function itself and lamda as 0.1. It shows that the airfoil dataset have good result with the simple linear basis function itself instead of a complex Gaussian one. In addition, I have done small analysis over the cross validation data of this dataframe using some visualization to say why and how I selected linear to be my basis linear function and lamda value for the model. I have also created a plot function for reusing it for later times."
   ]
  },
  {
   "cell_type": "code",
   "execution_count": 12,
   "metadata": {},
   "outputs": [
    {
     "data": {
      "text/html": [
       "\n",
       "\n",
       "    <div class=\"bk-root\">\n",
       "        <div class=\"bk-plotdiv\" id=\"8d720bc4-c4c7-4155-9e94-8c34dfc39988\"></div>\n",
       "    </div>\n",
       "<script type=\"text/javascript\">\n",
       "  \n",
       "  (function(root) {\n",
       "    function now() {\n",
       "      return new Date();\n",
       "    }\n",
       "  \n",
       "    var force = false;\n",
       "  \n",
       "    if (typeof (root._bokeh_onload_callbacks) === \"undefined\" || force === true) {\n",
       "      root._bokeh_onload_callbacks = [];\n",
       "      root._bokeh_is_loading = undefined;\n",
       "    }\n",
       "  \n",
       "  \n",
       "    \n",
       "    if (typeof (root._bokeh_timeout) === \"undefined\" || force === true) {\n",
       "      root._bokeh_timeout = Date.now() + 0;\n",
       "      root._bokeh_failed_load = false;\n",
       "    }\n",
       "  \n",
       "    var NB_LOAD_WARNING = {'data': {'text/html':\n",
       "       \"<div style='background-color: #fdd'>\\n\"+\n",
       "       \"<p>\\n\"+\n",
       "       \"BokehJS does not appear to have successfully loaded. If loading BokehJS from CDN, this \\n\"+\n",
       "       \"may be due to a slow or bad network connection. Possible fixes:\\n\"+\n",
       "       \"</p>\\n\"+\n",
       "       \"<ul>\\n\"+\n",
       "       \"<li>re-rerun `output_notebook()` to attempt to load from CDN again, or</li>\\n\"+\n",
       "       \"<li>use INLINE resources instead, as so:</li>\\n\"+\n",
       "       \"</ul>\\n\"+\n",
       "       \"<code>\\n\"+\n",
       "       \"from bokeh.resources import INLINE\\n\"+\n",
       "       \"output_notebook(resources=INLINE)\\n\"+\n",
       "       \"</code>\\n\"+\n",
       "       \"</div>\"}};\n",
       "  \n",
       "    function display_loaded() {\n",
       "      if (root.Bokeh !== undefined) {\n",
       "        var el = document.getElementById(\"8d720bc4-c4c7-4155-9e94-8c34dfc39988\");\n",
       "        if (el != null) {\n",
       "          el.textContent = \"BokehJS \" + Bokeh.version + \" successfully loaded.\";\n",
       "        }\n",
       "      } else if (Date.now() < root._bokeh_timeout) {\n",
       "        setTimeout(display_loaded, 100)\n",
       "      }\n",
       "    }\n",
       "  \n",
       "  \n",
       "    function run_callbacks() {\n",
       "      try {\n",
       "        root._bokeh_onload_callbacks.forEach(function(callback) { callback() });\n",
       "      }\n",
       "      finally {\n",
       "        delete root._bokeh_onload_callbacks\n",
       "      }\n",
       "      console.info(\"Bokeh: all callbacks have finished\");\n",
       "    }\n",
       "  \n",
       "    function load_libs(js_urls, callback) {\n",
       "      root._bokeh_onload_callbacks.push(callback);\n",
       "      if (root._bokeh_is_loading > 0) {\n",
       "        console.log(\"Bokeh: BokehJS is being loaded, scheduling callback at\", now());\n",
       "        return null;\n",
       "      }\n",
       "      if (js_urls == null || js_urls.length === 0) {\n",
       "        run_callbacks();\n",
       "        return null;\n",
       "      }\n",
       "      console.log(\"Bokeh: BokehJS not loaded, scheduling load and callback at\", now());\n",
       "      root._bokeh_is_loading = js_urls.length;\n",
       "      for (var i = 0; i < js_urls.length; i++) {\n",
       "        var url = js_urls[i];\n",
       "        var s = document.createElement('script');\n",
       "        s.src = url;\n",
       "        s.async = false;\n",
       "        s.onreadystatechange = s.onload = function() {\n",
       "          root._bokeh_is_loading--;\n",
       "          if (root._bokeh_is_loading === 0) {\n",
       "            console.log(\"Bokeh: all BokehJS libraries loaded\");\n",
       "            run_callbacks()\n",
       "          }\n",
       "        };\n",
       "        s.onerror = function() {\n",
       "          console.warn(\"failed to load library \" + url);\n",
       "        };\n",
       "        console.log(\"Bokeh: injecting script tag for BokehJS library: \", url);\n",
       "        document.getElementsByTagName(\"head\")[0].appendChild(s);\n",
       "      }\n",
       "    };var element = document.getElementById(\"8d720bc4-c4c7-4155-9e94-8c34dfc39988\");\n",
       "    if (element == null) {\n",
       "      console.log(\"Bokeh: ERROR: autoload.js configured with elementid '8d720bc4-c4c7-4155-9e94-8c34dfc39988' but no matching script tag was found. \")\n",
       "      return false;\n",
       "    }\n",
       "  \n",
       "    var js_urls = [];\n",
       "  \n",
       "    var inline_js = [\n",
       "      function(Bokeh) {\n",
       "        (function() {\n",
       "          var fn = function() {\n",
       "            var docs_json = {\"4491be0d-8f24-43ac-aba3-5b20a82e6892\":{\"roots\":{\"references\":[{\"attributes\":{\"source\":{\"id\":\"08ba9555-ac7c-4fa5-93fc-78fdd1c9ac6e\",\"type\":\"ColumnDataSource\"}},\"id\":\"1c7ca56d-c9b1-4876-82b3-8bc115613e97\",\"type\":\"CDSView\"},{\"attributes\":{\"items\":[{\"id\":\"5a404e50-6b75-4d9a-8271-ac0d4fe4c88b\",\"type\":\"LegendItem\"},{\"id\":\"d27d5023-f698-451a-a869-9d3c373121ea\",\"type\":\"LegendItem\"}],\"location\":\"center\",\"plot\":{\"id\":\"e18198ef-103e-419c-afc7-ff2beb4a47e1\",\"subtype\":\"Figure\",\"type\":\"Plot\"}},\"id\":\"a90977ab-a57d-465f-866b-a2c327f07810\",\"type\":\"Legend\"},{\"attributes\":{\"data_source\":{\"id\":\"08ba9555-ac7c-4fa5-93fc-78fdd1c9ac6e\",\"type\":\"ColumnDataSource\"},\"glyph\":{\"id\":\"1d56cc75-e4e0-4c5f-82d3-fa018451e3a8\",\"type\":\"Line\"},\"hover_glyph\":null,\"muted_glyph\":null,\"nonselection_glyph\":{\"id\":\"58945919-140e-4e4b-8cca-e1ed8bc431a8\",\"type\":\"Line\"},\"selection_glyph\":null,\"view\":{\"id\":\"1c7ca56d-c9b1-4876-82b3-8bc115613e97\",\"type\":\"CDSView\"}},\"id\":\"b2ba4a59-63f2-4dc9-9e7c-938f1692f5f2\",\"type\":\"GlyphRenderer\"},{\"attributes\":{\"align\":\"center\",\"plot\":null,\"text\":\"Airfoil Dataset\",\"text_font_size\":{\"value\":\"20pt\"}},\"id\":\"04adaa77-f416-47d3-a937-9133ade3a4b6\",\"type\":\"Title\"},{\"attributes\":{\"data_source\":{\"id\":\"dff35fed-2861-4f5c-b063-686e6b800756\",\"type\":\"ColumnDataSource\"},\"glyph\":{\"id\":\"9069b843-3814-4ad1-97da-e76ccfdcf828\",\"type\":\"Line\"},\"hover_glyph\":null,\"muted_glyph\":null,\"nonselection_glyph\":{\"id\":\"5e5c793f-6b80-4a08-8320-d7b56be09d9b\",\"type\":\"Line\"},\"selection_glyph\":null,\"view\":{\"id\":\"e4ecc859-8a28-4946-84ac-78a39dce7236\",\"type\":\"CDSView\"}},\"id\":\"cb28ca18-d70c-4665-8cbb-f8ad0bd091a8\",\"type\":\"GlyphRenderer\"},{\"attributes\":{\"callback\":null,\"column_names\":[\"x\",\"y\"],\"data\":{\"x\":{\"__ndarray__\":\"AAAAAAAAAAAtQxzr4jYaP/yp8dJNYlA/exSuR+F6hD+amZmZmZm5PwAAAAAAAPA/AAAAAAAAJEAAAAAAAABZQA==\",\"dtype\":\"float64\",\"shape\":[8]},\"y\":{\"__ndarray__\":\"S6J1JBL8PkDOhSYgOFw/QEfXI0NgM0JASrM0f271RUAd0kqhXDhHQEuidSQS/D5ASShQ8hMbSEAvL+J8NZBJQLPAgceghUxA\",\"dtype\":\"float64\",\"shape\":[9]}}},\"id\":\"08ba9555-ac7c-4fa5-93fc-78fdd1c9ac6e\",\"type\":\"ColumnDataSource\"},{\"attributes\":{},\"id\":\"9dcd9d78-129b-4ed8-8360-b4b6aac9eb12\",\"type\":\"LinearScale\"},{\"attributes\":{\"label\":{\"value\":\"GAUSSIAN\"},\"renderers\":[{\"id\":\"b2ba4a59-63f2-4dc9-9e7c-938f1692f5f2\",\"type\":\"GlyphRenderer\"}]},\"id\":\"d27d5023-f698-451a-a869-9d3c373121ea\",\"type\":\"LegendItem\"},{\"attributes\":{},\"id\":\"891158d7-e501-4e88-986c-1e54a9d86a7f\",\"type\":\"LinearScale\"},{\"attributes\":{\"line_alpha\":{\"value\":0.1},\"line_color\":{\"value\":\"#1f77b4\"},\"line_width\":{\"value\":4},\"x\":{\"field\":\"x\"},\"y\":{\"field\":\"y\"}},\"id\":\"58945919-140e-4e4b-8cca-e1ed8bc431a8\",\"type\":\"Line\"},{\"attributes\":{\"active_drag\":\"auto\",\"active_inspect\":\"auto\",\"active_scroll\":\"auto\",\"active_tap\":\"auto\",\"tools\":[{\"id\":\"55567f0b-4a63-4822-bf57-2844a21484e7\",\"type\":\"PanTool\"},{\"id\":\"20283482-8075-4ebc-8165-3337398c992b\",\"type\":\"WheelZoomTool\"},{\"id\":\"64827285-241b-4cdb-81e3-7bd91168c665\",\"type\":\"BoxZoomTool\"},{\"id\":\"6e4929b9-33fe-463e-be17-de1c47447ccc\",\"type\":\"SaveTool\"},{\"id\":\"aaac8617-a317-4754-a81b-14448a315bf0\",\"type\":\"ResetTool\"},{\"id\":\"742a50da-1a4c-40eb-b232-087fb8fdcf53\",\"type\":\"HelpTool\"}]},\"id\":\"9fef3743-313c-4e1a-80ce-83594a3c106a\",\"type\":\"Toolbar\"},{\"attributes\":{\"callback\":null},\"id\":\"340c2eb2-7207-4a0b-b20d-41055af116b2\",\"type\":\"DataRange1d\"},{\"attributes\":{\"axis_label\":\"Lamda\",\"axis_label_text_font_size\":{\"value\":\"20pt\"},\"formatter\":{\"id\":\"8b80effe-781b-4754-ad42-8eaec6d5bfbe\",\"type\":\"BasicTickFormatter\"},\"plot\":{\"id\":\"e18198ef-103e-419c-afc7-ff2beb4a47e1\",\"subtype\":\"Figure\",\"type\":\"Plot\"},\"ticker\":{\"id\":\"3dfff7c1-b3e6-4de7-9bd2-9f64d49cf434\",\"type\":\"BasicTicker\"}},\"id\":\"d52df51b-06d4-4e62-b133-c43247e2a718\",\"type\":\"LinearAxis\"},{\"attributes\":{},\"id\":\"3dfff7c1-b3e6-4de7-9bd2-9f64d49cf434\",\"type\":\"BasicTicker\"},{\"attributes\":{\"plot\":{\"id\":\"e18198ef-103e-419c-afc7-ff2beb4a47e1\",\"subtype\":\"Figure\",\"type\":\"Plot\"},\"ticker\":{\"id\":\"3dfff7c1-b3e6-4de7-9bd2-9f64d49cf434\",\"type\":\"BasicTicker\"}},\"id\":\"8d9a32bd-b016-4bf2-9e29-1d7e40327503\",\"type\":\"Grid\"},{\"attributes\":{\"axis_label\":\"Mean Square Error\",\"axis_label_text_font_size\":{\"value\":\"20pt\"},\"formatter\":{\"id\":\"132a958c-2c7c-4b0d-941a-6e12bb1ccb5e\",\"type\":\"BasicTickFormatter\"},\"plot\":{\"id\":\"e18198ef-103e-419c-afc7-ff2beb4a47e1\",\"subtype\":\"Figure\",\"type\":\"Plot\"},\"ticker\":{\"id\":\"8e50f3f1-7adc-4cc8-bdf3-8cbfb7fecbd1\",\"type\":\"BasicTicker\"}},\"id\":\"120a1a86-485c-4624-baa2-ae3ac6045b9d\",\"type\":\"LinearAxis\"},{\"attributes\":{},\"id\":\"8e50f3f1-7adc-4cc8-bdf3-8cbfb7fecbd1\",\"type\":\"BasicTicker\"},{\"attributes\":{\"dimension\":1,\"plot\":{\"id\":\"e18198ef-103e-419c-afc7-ff2beb4a47e1\",\"subtype\":\"Figure\",\"type\":\"Plot\"},\"ticker\":{\"id\":\"8e50f3f1-7adc-4cc8-bdf3-8cbfb7fecbd1\",\"type\":\"BasicTicker\"}},\"id\":\"fcef2d44-42fd-486a-ab17-31551965a387\",\"type\":\"Grid\"},{\"attributes\":{\"bottom_units\":\"screen\",\"fill_alpha\":{\"value\":0.5},\"fill_color\":{\"value\":\"lightgrey\"},\"left_units\":\"screen\",\"level\":\"overlay\",\"line_alpha\":{\"value\":1.0},\"line_color\":{\"value\":\"black\"},\"line_dash\":[4,4],\"line_width\":{\"value\":2},\"plot\":null,\"render_mode\":\"css\",\"right_units\":\"screen\",\"top_units\":\"screen\"},\"id\":\"b02e8dd8-3dfe-458e-beb5-ef7ca1fa0310\",\"type\":\"BoxAnnotation\"},{\"attributes\":{},\"id\":\"55567f0b-4a63-4822-bf57-2844a21484e7\",\"type\":\"PanTool\"},{\"attributes\":{\"callback\":null,\"column_names\":[\"x\",\"y\"],\"data\":{\"x\":{\"__ndarray__\":\"AAAAAAAAAAAtQxzr4jYaP/yp8dJNYlA/exSuR+F6hD+amZmZmZm5PwAAAAAAAPA/AAAAAAAAJEAAAAAAAABZQA==\",\"dtype\":\"float64\",\"shape\":[8]},\"y\":{\"__ndarray__\":\"o03UzXSqN0DHWjHKdKo3QJ3kuKl0qjdA0LSRfnOqN0CqxLvJcao3QKNN1M10qjdAEL8ygUSuN0ADSOyUPFE5QHo7vXlCYWRA\",\"dtype\":\"float64\",\"shape\":[9]}}},\"id\":\"dff35fed-2861-4f5c-b063-686e6b800756\",\"type\":\"ColumnDataSource\"},{\"attributes\":{\"line_color\":{\"value\":\"#6b6ecf\"},\"line_width\":{\"value\":4},\"x\":{\"field\":\"x\"},\"y\":{\"field\":\"y\"}},\"id\":\"9069b843-3814-4ad1-97da-e76ccfdcf828\",\"type\":\"Line\"},{\"attributes\":{},\"id\":\"20283482-8075-4ebc-8165-3337398c992b\",\"type\":\"WheelZoomTool\"},{\"attributes\":{\"overlay\":{\"id\":\"b02e8dd8-3dfe-458e-beb5-ef7ca1fa0310\",\"type\":\"BoxAnnotation\"}},\"id\":\"64827285-241b-4cdb-81e3-7bd91168c665\",\"type\":\"BoxZoomTool\"},{\"attributes\":{\"callback\":null},\"id\":\"e6e929a3-7d97-424b-93bf-614e1a990c80\",\"type\":\"DataRange1d\"},{\"attributes\":{\"source\":{\"id\":\"dff35fed-2861-4f5c-b063-686e6b800756\",\"type\":\"ColumnDataSource\"}},\"id\":\"e4ecc859-8a28-4946-84ac-78a39dce7236\",\"type\":\"CDSView\"},{\"attributes\":{},\"id\":\"6e4929b9-33fe-463e-be17-de1c47447ccc\",\"type\":\"SaveTool\"},{\"attributes\":{},\"id\":\"aaac8617-a317-4754-a81b-14448a315bf0\",\"type\":\"ResetTool\"},{\"attributes\":{},\"id\":\"742a50da-1a4c-40eb-b232-087fb8fdcf53\",\"type\":\"HelpTool\"},{\"attributes\":{\"line_color\":{\"value\":\"#b5cf6b\"},\"line_width\":{\"value\":4},\"x\":{\"field\":\"x\"},\"y\":{\"field\":\"y\"}},\"id\":\"1d56cc75-e4e0-4c5f-82d3-fa018451e3a8\",\"type\":\"Line\"},{\"attributes\":{},\"id\":\"132a958c-2c7c-4b0d-941a-6e12bb1ccb5e\",\"type\":\"BasicTickFormatter\"},{\"attributes\":{},\"id\":\"8b80effe-781b-4754-ad42-8eaec6d5bfbe\",\"type\":\"BasicTickFormatter\"},{\"attributes\":{\"line_alpha\":{\"value\":0.1},\"line_color\":{\"value\":\"#1f77b4\"},\"line_width\":{\"value\":4},\"x\":{\"field\":\"x\"},\"y\":{\"field\":\"y\"}},\"id\":\"5e5c793f-6b80-4a08-8320-d7b56be09d9b\",\"type\":\"Line\"},{\"attributes\":{\"below\":[{\"id\":\"d52df51b-06d4-4e62-b133-c43247e2a718\",\"type\":\"LinearAxis\"}],\"left\":[{\"id\":\"120a1a86-485c-4624-baa2-ae3ac6045b9d\",\"type\":\"LinearAxis\"}],\"plot_width\":800,\"renderers\":[{\"id\":\"d52df51b-06d4-4e62-b133-c43247e2a718\",\"type\":\"LinearAxis\"},{\"id\":\"8d9a32bd-b016-4bf2-9e29-1d7e40327503\",\"type\":\"Grid\"},{\"id\":\"120a1a86-485c-4624-baa2-ae3ac6045b9d\",\"type\":\"LinearAxis\"},{\"id\":\"fcef2d44-42fd-486a-ab17-31551965a387\",\"type\":\"Grid\"},{\"id\":\"b02e8dd8-3dfe-458e-beb5-ef7ca1fa0310\",\"type\":\"BoxAnnotation\"},{\"id\":\"a90977ab-a57d-465f-866b-a2c327f07810\",\"type\":\"Legend\"},{\"id\":\"cb28ca18-d70c-4665-8cbb-f8ad0bd091a8\",\"type\":\"GlyphRenderer\"},{\"id\":\"b2ba4a59-63f2-4dc9-9e7c-938f1692f5f2\",\"type\":\"GlyphRenderer\"}],\"title\":{\"id\":\"04adaa77-f416-47d3-a937-9133ade3a4b6\",\"type\":\"Title\"},\"toolbar\":{\"id\":\"9fef3743-313c-4e1a-80ce-83594a3c106a\",\"type\":\"Toolbar\"},\"x_range\":{\"id\":\"340c2eb2-7207-4a0b-b20d-41055af116b2\",\"type\":\"DataRange1d\"},\"x_scale\":{\"id\":\"891158d7-e501-4e88-986c-1e54a9d86a7f\",\"type\":\"LinearScale\"},\"y_range\":{\"id\":\"e6e929a3-7d97-424b-93bf-614e1a990c80\",\"type\":\"DataRange1d\"},\"y_scale\":{\"id\":\"9dcd9d78-129b-4ed8-8360-b4b6aac9eb12\",\"type\":\"LinearScale\"}},\"id\":\"e18198ef-103e-419c-afc7-ff2beb4a47e1\",\"subtype\":\"Figure\",\"type\":\"Plot\"},{\"attributes\":{\"label\":{\"value\":\"LINEAR\"},\"renderers\":[{\"id\":\"cb28ca18-d70c-4665-8cbb-f8ad0bd091a8\",\"type\":\"GlyphRenderer\"}]},\"id\":\"5a404e50-6b75-4d9a-8271-ac0d4fe4c88b\",\"type\":\"LegendItem\"}],\"root_ids\":[\"e18198ef-103e-419c-afc7-ff2beb4a47e1\"]},\"title\":\"Bokeh Application\",\"version\":\"0.12.7\"}};\n",
       "            var render_items = [{\"docid\":\"4491be0d-8f24-43ac-aba3-5b20a82e6892\",\"elementid\":\"8d720bc4-c4c7-4155-9e94-8c34dfc39988\",\"modelid\":\"e18198ef-103e-419c-afc7-ff2beb4a47e1\"}];\n",
       "            \n",
       "            Bokeh.embed.embed_items(docs_json, render_items);\n",
       "          };\n",
       "          if (document.readyState != \"loading\") fn();\n",
       "          else document.addEventListener(\"DOMContentLoaded\", fn);\n",
       "        })();\n",
       "      },\n",
       "      function(Bokeh) {\n",
       "      }\n",
       "    ];\n",
       "  \n",
       "    function run_inline_js() {\n",
       "      \n",
       "      if ((root.Bokeh !== undefined) || (force === true)) {\n",
       "        for (var i = 0; i < inline_js.length; i++) {\n",
       "          inline_js[i].call(root, root.Bokeh);\n",
       "        }if (force === true) {\n",
       "          display_loaded();\n",
       "        }} else if (Date.now() < root._bokeh_timeout) {\n",
       "        setTimeout(run_inline_js, 100);\n",
       "      } else if (!root._bokeh_failed_load) {\n",
       "        console.log(\"Bokeh: BokehJS failed to load within specified timeout.\");\n",
       "        root._bokeh_failed_load = true;\n",
       "      } else if (force !== true) {\n",
       "        var cell = $(document.getElementById(\"8d720bc4-c4c7-4155-9e94-8c34dfc39988\")).parents('.cell').data().cell;\n",
       "        cell.output_area.append_execute_result(NB_LOAD_WARNING)\n",
       "      }\n",
       "  \n",
       "    }\n",
       "  \n",
       "    if (root._bokeh_is_loading === 0) {\n",
       "      console.log(\"Bokeh: BokehJS loaded, going straight to plotting\");\n",
       "      run_inline_js();\n",
       "    } else {\n",
       "      load_libs(js_urls, function() {\n",
       "        console.log(\"Bokeh: BokehJS plotting callback run at\", now());\n",
       "        run_inline_js();\n",
       "      });\n",
       "    }\n",
       "  }(window));\n",
       "</script>"
      ]
     },
     "metadata": {},
     "output_type": "execute_result"
    }
   ],
   "source": [
    "# Custom style attribute function\n",
    "# Best practive for bokeh users\n",
    "def model_param_analysis(data, title, width = 800, height = 600, xlab = \"X-axis\", ylab = \"Y-axis\", line_width = 4):\n",
    "    # Creating the variables for the color prop\n",
    "    colors_list = [d3['Category20b'][17][i] for i in [2, 6]]\n",
    "    # Create a parameter dataframe from the regressor object\n",
    "    df = pd.DataFrame(data)\n",
    "    # Structuring the x and y axis values\n",
    "    basis_function = df.basis_function.unique()\n",
    "    xs = [df.lamda.unique()] * len(basis_function)\n",
    "    ys = [df.loc[df[\"basis_function\"] == x][\"lmse\"] for x in basis_function]\n",
    "    # Create the figure object\n",
    "    p = figure(width = width, height = height, title = title, x_axis_label = xlab, y_axis_label = ylab)\n",
    "    # Iterate through each degree and draw the lines\n",
    "    for (col_name, colr, x, y) in zip(basis_function, colors_list, xs, ys):\n",
    "        current_plot = p.line(x, y, color = colr, legend = col_name.upper(), line_width = line_width)\n",
    "        p.legend.location = \"center\"\n",
    "    # Add plot style attributes\n",
    "    p.title.text_font_size = \"20pt\"\n",
    "    p.title.align = \"center\"\n",
    "    p.xaxis.axis_label_text_font_size = \"20pt\"\n",
    "    p.yaxis.axis_label_text_font_size = \"20pt\"\n",
    "    return show(p)\n",
    "\n",
    "# Show the plot\n",
    "model_param_analysis(data = airfoil_regressor.parameters_list, title = \"Airfoil Dataset\", width = 800, height = 600, \n",
    "                         xlab = \"Lamda\", ylab = \"Mean Square Error\", line_width = 4)"
   ]
  },
  {
   "cell_type": "markdown",
   "metadata": {},
   "source": [
    "From the above plot we can see clearly that, linear basis function is better performing for gaussian at all the lambda values for this airfoil data set. And the best lamda value we have selected for our final model is 0.1. You can see that of all points on the plot, least mean square error is at 0.1 approximately. And thus we selected linear basis with lamda value as 0.1 for our model."
   ]
  },
  {
   "cell_type": "markdown",
   "metadata": {},
   "source": [
    "## Yachat Hydro Dataset"
   ]
  },
  {
   "cell_type": "code",
   "execution_count": 13,
   "metadata": {},
   "outputs": [
    {
     "data": {
      "text/plain": [
       "array([ -8.03388298e+00,  -4.98197638e+00,   1.12183682e+00,\n",
       "         1.02775566e+01,   1.33294632e+01,  -8.01210760e+00,\n",
       "         2.86107716e+01,   1.92540344e+01,   2.23059410e+01,\n",
       "        -8.48793339e+00,   1.89792260e+01,   2.20311326e+01,\n",
       "         3.11868524e+01,  -4.12571466e+00,   1.11338183e+01,\n",
       "         2.02895381e+01,   2.63933513e+01,   2.94452579e+01,\n",
       "        -5.57093867e+00,   6.63668772e+00,   3.10519405e+01,\n",
       "        -5.55399800e+00,   1.27574416e+01,  -7.34286100e+00,\n",
       "        -1.23904780e+00,   1.81285880e+00,   7.91667199e+00,\n",
       "         1.40204852e+01,   2.01242984e+01,   3.23319248e+01,\n",
       "         5.56073525e-01,   2.49713263e+01,  -4.86829637e+00,\n",
       "         4.28742343e+00,   7.33933003e+00,   1.34431432e+01,\n",
       "        -9.17698823e+00,  -2.12684411e-02,   6.08254475e+00,\n",
       "         9.13445135e+00,   2.13420777e+01,   2.74458909e+01,\n",
       "        -4.32436723e+00,  -1.27246063e+00,   1.77944596e+00,\n",
       "         4.83135256e+00,   7.88325916e+00,   1.39870724e+01,\n",
       "         1.70389790e+01,   2.31427921e+01,   2.61946987e+01,\n",
       "        -6.76101801e+00,   5.44660838e+00,   8.49851498e+00,\n",
       "         1.23456013e+01,   1.84494145e+01,   2.15013211e+01,\n",
       "         2.45532277e+01,  -9.74184482e+00,  -5.86125028e-01,\n",
       "         2.46578157e+00,   8.56959477e+00,  -6.22500240e+00,\n",
       "         2.93071740e+00,   1.20864372e+01,   2.42940636e+01,\n",
       "         2.73459702e+01,   1.08296519e+01,   1.38815585e+01,\n",
       "         2.30372783e+01,   2.91410915e+01,   3.21929981e+01,\n",
       "        -3.51825194e+00,   1.17412811e+01,   3.90206245e+00,\n",
       "         6.95396905e+00,   2.52654086e+01])"
      ]
     },
     "execution_count": 13,
     "metadata": {},
     "output_type": "execute_result"
    }
   ],
   "source": [
    "yacht_hydro_regressor = Regression()\n",
    "yacht_hydro_data_process = DataProcessing()\n",
    "yacht_hydro_df_train, yacht_hydro_df_test = yacht_hydro_data_process.train_test_split(yacht_hydro_df)\n",
    "prediction = yacht_hydro_regressor.my_regression(yacht_hydro_df_train, yacht_hydro_df_test.iloc[:, 0:-1], 1)\n",
    "prediction.reshape(len(prediction))"
   ]
  },
  {
   "cell_type": "markdown",
   "metadata": {},
   "source": [
    "Above we have the prediction values for the yachat hydro dataset using the selected model on the test set. Lets us see what are parameters used for the model using the model param variable of the regressor class object."
   ]
  },
  {
   "cell_type": "code",
   "execution_count": 14,
   "metadata": {},
   "outputs": [
    {
     "data": {
      "text/plain": [
       "[{'kernel': 'linear',\n",
       "  'lamda': 10,\n",
       "  'lmse': 85.289946954115365,\n",
       "  'weights': array([[  0.52099247],\n",
       "         [ -0.59127749],\n",
       "         [  0.13064916],\n",
       "         [ -0.56454935],\n",
       "         [ -0.60913435],\n",
       "         [ 12.22693704],\n",
       "         [ 10.7282111 ]])}]"
      ]
     },
     "execution_count": 14,
     "metadata": {},
     "output_type": "execute_result"
    }
   ],
   "source": [
    "yacht_hydro_regressor.model_param"
   ]
  },
  {
   "cell_type": "markdown",
   "metadata": {},
   "source": [
    "Thus we can see clearly that the best model for the yachat hydro dataset after 10 fold cross validation model selection has the following parameters and values\n",
    "\n",
    "- Kernel : Linear\n",
    "- Lamda value : 10\n",
    "- Least Mean Square Error value: ~85.28\n",
    "\n",
    "Lets us the see how the best model is performing over the test data we set apart at first itself using least mean square value."
   ]
  },
  {
   "cell_type": "code",
   "execution_count": 15,
   "metadata": {},
   "outputs": [
    {
     "name": "stdout",
     "output_type": "stream",
     "text": [
      "75.19\n"
     ]
    }
   ],
   "source": [
    "lmse = yacht_hydro_regressor.lmse(yacht_hydro_df_test.iloc[:, -1].values.reshape(len(yacht_hydro_df_test), 1), prediction)\n",
    "print(round(lmse, 2))"
   ]
  },
  {
   "cell_type": "markdown",
   "metadata": {},
   "source": [
    "Thus we have Least Mean Square Error of 75.19 on the test set using Linear basis function itself and lamda as 10. It shows that the yachat dataset have good result with the simple linear basis function itself instead of a complex Gaussian one. In addition, I have done small analysis over the cross validation data of this dataframe using some visualization to say why and how I selected linear to be my basis linear function and lamda value for the model. I will be using the previously created custom plot function to do this."
   ]
  },
  {
   "cell_type": "code",
   "execution_count": 16,
   "metadata": {
    "scrolled": false
   },
   "outputs": [
    {
     "data": {
      "text/html": [
       "\n",
       "\n",
       "    <div class=\"bk-root\">\n",
       "        <div class=\"bk-plotdiv\" id=\"bd8f62a1-d9a7-49a3-a04f-bc37fae5545e\"></div>\n",
       "    </div>\n",
       "<script type=\"text/javascript\">\n",
       "  \n",
       "  (function(root) {\n",
       "    function now() {\n",
       "      return new Date();\n",
       "    }\n",
       "  \n",
       "    var force = false;\n",
       "  \n",
       "    if (typeof (root._bokeh_onload_callbacks) === \"undefined\" || force === true) {\n",
       "      root._bokeh_onload_callbacks = [];\n",
       "      root._bokeh_is_loading = undefined;\n",
       "    }\n",
       "  \n",
       "  \n",
       "    \n",
       "    if (typeof (root._bokeh_timeout) === \"undefined\" || force === true) {\n",
       "      root._bokeh_timeout = Date.now() + 0;\n",
       "      root._bokeh_failed_load = false;\n",
       "    }\n",
       "  \n",
       "    var NB_LOAD_WARNING = {'data': {'text/html':\n",
       "       \"<div style='background-color: #fdd'>\\n\"+\n",
       "       \"<p>\\n\"+\n",
       "       \"BokehJS does not appear to have successfully loaded. If loading BokehJS from CDN, this \\n\"+\n",
       "       \"may be due to a slow or bad network connection. Possible fixes:\\n\"+\n",
       "       \"</p>\\n\"+\n",
       "       \"<ul>\\n\"+\n",
       "       \"<li>re-rerun `output_notebook()` to attempt to load from CDN again, or</li>\\n\"+\n",
       "       \"<li>use INLINE resources instead, as so:</li>\\n\"+\n",
       "       \"</ul>\\n\"+\n",
       "       \"<code>\\n\"+\n",
       "       \"from bokeh.resources import INLINE\\n\"+\n",
       "       \"output_notebook(resources=INLINE)\\n\"+\n",
       "       \"</code>\\n\"+\n",
       "       \"</div>\"}};\n",
       "  \n",
       "    function display_loaded() {\n",
       "      if (root.Bokeh !== undefined) {\n",
       "        var el = document.getElementById(\"bd8f62a1-d9a7-49a3-a04f-bc37fae5545e\");\n",
       "        if (el != null) {\n",
       "          el.textContent = \"BokehJS \" + Bokeh.version + \" successfully loaded.\";\n",
       "        }\n",
       "      } else if (Date.now() < root._bokeh_timeout) {\n",
       "        setTimeout(display_loaded, 100)\n",
       "      }\n",
       "    }\n",
       "  \n",
       "  \n",
       "    function run_callbacks() {\n",
       "      try {\n",
       "        root._bokeh_onload_callbacks.forEach(function(callback) { callback() });\n",
       "      }\n",
       "      finally {\n",
       "        delete root._bokeh_onload_callbacks\n",
       "      }\n",
       "      console.info(\"Bokeh: all callbacks have finished\");\n",
       "    }\n",
       "  \n",
       "    function load_libs(js_urls, callback) {\n",
       "      root._bokeh_onload_callbacks.push(callback);\n",
       "      if (root._bokeh_is_loading > 0) {\n",
       "        console.log(\"Bokeh: BokehJS is being loaded, scheduling callback at\", now());\n",
       "        return null;\n",
       "      }\n",
       "      if (js_urls == null || js_urls.length === 0) {\n",
       "        run_callbacks();\n",
       "        return null;\n",
       "      }\n",
       "      console.log(\"Bokeh: BokehJS not loaded, scheduling load and callback at\", now());\n",
       "      root._bokeh_is_loading = js_urls.length;\n",
       "      for (var i = 0; i < js_urls.length; i++) {\n",
       "        var url = js_urls[i];\n",
       "        var s = document.createElement('script');\n",
       "        s.src = url;\n",
       "        s.async = false;\n",
       "        s.onreadystatechange = s.onload = function() {\n",
       "          root._bokeh_is_loading--;\n",
       "          if (root._bokeh_is_loading === 0) {\n",
       "            console.log(\"Bokeh: all BokehJS libraries loaded\");\n",
       "            run_callbacks()\n",
       "          }\n",
       "        };\n",
       "        s.onerror = function() {\n",
       "          console.warn(\"failed to load library \" + url);\n",
       "        };\n",
       "        console.log(\"Bokeh: injecting script tag for BokehJS library: \", url);\n",
       "        document.getElementsByTagName(\"head\")[0].appendChild(s);\n",
       "      }\n",
       "    };var element = document.getElementById(\"bd8f62a1-d9a7-49a3-a04f-bc37fae5545e\");\n",
       "    if (element == null) {\n",
       "      console.log(\"Bokeh: ERROR: autoload.js configured with elementid 'bd8f62a1-d9a7-49a3-a04f-bc37fae5545e' but no matching script tag was found. \")\n",
       "      return false;\n",
       "    }\n",
       "  \n",
       "    var js_urls = [];\n",
       "  \n",
       "    var inline_js = [\n",
       "      function(Bokeh) {\n",
       "        (function() {\n",
       "          var fn = function() {\n",
       "            var docs_json = {\"4f54d13c-974f-414f-a0a1-919b143f49af\":{\"roots\":{\"references\":[{\"attributes\":{},\"id\":\"d85d8ce5-0e84-4ab8-9210-876f54bd33ac\",\"type\":\"ResetTool\"},{\"attributes\":{},\"id\":\"9660b6d8-25bd-4171-b9cf-85c96e2e1236\",\"type\":\"WheelZoomTool\"},{\"attributes\":{\"line_color\":{\"value\":\"#6b6ecf\"},\"line_width\":{\"value\":4},\"x\":{\"field\":\"x\"},\"y\":{\"field\":\"y\"}},\"id\":\"5858446c-126a-46bc-8d3a-5359fc805ae2\",\"type\":\"Line\"},{\"attributes\":{\"overlay\":{\"id\":\"cdde8d7e-e555-4915-9f6c-3e9f9477f923\",\"type\":\"BoxAnnotation\"}},\"id\":\"f79fc7f7-c7e8-4513-90ed-74e44d348ba9\",\"type\":\"BoxZoomTool\"},{\"attributes\":{\"callback\":null},\"id\":\"ec297835-d9c1-436e-865d-2682b9a5610a\",\"type\":\"DataRange1d\"},{\"attributes\":{\"align\":\"center\",\"plot\":null,\"text\":\"Yachat Hydro Dataset\",\"text_font_size\":{\"value\":\"20pt\"}},\"id\":\"fa319821-a94c-4f18-92c7-f302765ce683\",\"type\":\"Title\"},{\"attributes\":{\"active_drag\":\"auto\",\"active_inspect\":\"auto\",\"active_scroll\":\"auto\",\"active_tap\":\"auto\",\"tools\":[{\"id\":\"52fdd384-efc7-42a9-93ad-be43963f3b9e\",\"type\":\"PanTool\"},{\"id\":\"9660b6d8-25bd-4171-b9cf-85c96e2e1236\",\"type\":\"WheelZoomTool\"},{\"id\":\"f79fc7f7-c7e8-4513-90ed-74e44d348ba9\",\"type\":\"BoxZoomTool\"},{\"id\":\"5d64787d-8781-4126-8bd4-905bba5d1a8e\",\"type\":\"SaveTool\"},{\"id\":\"d85d8ce5-0e84-4ab8-9210-876f54bd33ac\",\"type\":\"ResetTool\"},{\"id\":\"7a306fd4-733a-41b1-a156-484b12a0b22d\",\"type\":\"HelpTool\"}]},\"id\":\"ea977922-7df8-4890-915c-67f75275d8b2\",\"type\":\"Toolbar\"},{\"attributes\":{},\"id\":\"7a306fd4-733a-41b1-a156-484b12a0b22d\",\"type\":\"HelpTool\"},{\"attributes\":{\"dimension\":1,\"plot\":{\"id\":\"56538332-1a25-46df-aa1c-a7e504e88114\",\"subtype\":\"Figure\",\"type\":\"Plot\"},\"ticker\":{\"id\":\"98cca0d3-3e05-4288-aa85-e5e1b1c7949f\",\"type\":\"BasicTicker\"}},\"id\":\"51ea5808-ebb2-4e2f-9b8c-8d2f592eef4d\",\"type\":\"Grid\"},{\"attributes\":{},\"id\":\"5d9d5968-759d-460c-9be0-8bb61da201db\",\"type\":\"BasicTickFormatter\"},{\"attributes\":{\"callback\":null,\"column_names\":[\"x\",\"y\"],\"data\":{\"x\":{\"__ndarray__\":\"AAAAAAAAAAAtQxzr4jYaP/yp8dJNYlA/exSuR+F6hD+amZmZmZm5PwAAAAAAAPA/AAAAAAAAJEAAAAAAAABZQA==\",\"dtype\":\"float64\",\"shape\":[8]},\"y\":{\"__ndarray__\":\"MVCG43VRVkAYk7FEmkFWQHnPaISrIlZAB0yJZupaVkBWoqGa0wxeQDFQhuN1UVZA401yDX3hZ0B46jQWJg1tQL59Z56rSG5A\",\"dtype\":\"float64\",\"shape\":[9]}}},\"id\":\"e49ae1b6-268f-4084-96c3-6aafe7506c8e\",\"type\":\"ColumnDataSource\"},{\"attributes\":{\"below\":[{\"id\":\"41e577ea-26f4-4b49-9917-5ddbec9d0426\",\"type\":\"LinearAxis\"}],\"left\":[{\"id\":\"dca982b7-96a8-4138-91f9-9a836014cb13\",\"type\":\"LinearAxis\"}],\"plot_width\":800,\"renderers\":[{\"id\":\"41e577ea-26f4-4b49-9917-5ddbec9d0426\",\"type\":\"LinearAxis\"},{\"id\":\"e35408af-1f07-4fcf-b040-c984599fcb0a\",\"type\":\"Grid\"},{\"id\":\"dca982b7-96a8-4138-91f9-9a836014cb13\",\"type\":\"LinearAxis\"},{\"id\":\"51ea5808-ebb2-4e2f-9b8c-8d2f592eef4d\",\"type\":\"Grid\"},{\"id\":\"cdde8d7e-e555-4915-9f6c-3e9f9477f923\",\"type\":\"BoxAnnotation\"},{\"id\":\"69843e9d-c164-43e7-b32f-8b286bd63462\",\"type\":\"Legend\"},{\"id\":\"733d548a-ef2c-444f-9f5b-c0e21345c99d\",\"type\":\"GlyphRenderer\"},{\"id\":\"5528fa11-5bf9-4f8c-982f-2e7629968e67\",\"type\":\"GlyphRenderer\"}],\"title\":{\"id\":\"fa319821-a94c-4f18-92c7-f302765ce683\",\"type\":\"Title\"},\"toolbar\":{\"id\":\"ea977922-7df8-4890-915c-67f75275d8b2\",\"type\":\"Toolbar\"},\"x_range\":{\"id\":\"f0d4d15a-bf4e-4b86-aee2-6bf2ece1b87a\",\"type\":\"DataRange1d\"},\"x_scale\":{\"id\":\"1b117efc-3597-4762-a102-1d93e1c3279d\",\"type\":\"LinearScale\"},\"y_range\":{\"id\":\"ec297835-d9c1-436e-865d-2682b9a5610a\",\"type\":\"DataRange1d\"},\"y_scale\":{\"id\":\"fe920118-e7c8-40b5-bb95-7fce572b7d8e\",\"type\":\"LinearScale\"}},\"id\":\"56538332-1a25-46df-aa1c-a7e504e88114\",\"subtype\":\"Figure\",\"type\":\"Plot\"},{\"attributes\":{\"axis_label\":\"Mean Square Error\",\"axis_label_text_font_size\":{\"value\":\"20pt\"},\"formatter\":{\"id\":\"7270b2e1-2ff4-4751-a74f-cf63e8ee8fa6\",\"type\":\"BasicTickFormatter\"},\"plot\":{\"id\":\"56538332-1a25-46df-aa1c-a7e504e88114\",\"subtype\":\"Figure\",\"type\":\"Plot\"},\"ticker\":{\"id\":\"98cca0d3-3e05-4288-aa85-e5e1b1c7949f\",\"type\":\"BasicTicker\"}},\"id\":\"dca982b7-96a8-4138-91f9-9a836014cb13\",\"type\":\"LinearAxis\"},{\"attributes\":{\"line_alpha\":{\"value\":0.1},\"line_color\":{\"value\":\"#1f77b4\"},\"line_width\":{\"value\":4},\"x\":{\"field\":\"x\"},\"y\":{\"field\":\"y\"}},\"id\":\"19a2e86b-a28a-49f2-bb1e-4355dddf0b36\",\"type\":\"Line\"},{\"attributes\":{\"line_alpha\":{\"value\":0.1},\"line_color\":{\"value\":\"#1f77b4\"},\"line_width\":{\"value\":4},\"x\":{\"field\":\"x\"},\"y\":{\"field\":\"y\"}},\"id\":\"34b920dd-47f9-449a-af8a-9fca5e3d056c\",\"type\":\"Line\"},{\"attributes\":{\"callback\":null,\"column_names\":[\"x\",\"y\"],\"data\":{\"x\":{\"__ndarray__\":\"AAAAAAAAAAAtQxzr4jYaP/yp8dJNYlA/exSuR+F6hD+amZmZmZm5PwAAAAAAAPA/AAAAAAAAJEAAAAAAAABZQA==\",\"dtype\":\"float64\",\"shape\":[8]},\"y\":{\"__ndarray__\":\"G9zecbKMVUD+ixCxsIxVQK6oh+ygjFVAgFKBSgSMVUBXey7JR4ZVQBvc3nGyjFVAkHtS88xjVUAFYKt9jlJVQLtmj5qcBV1A\",\"dtype\":\"float64\",\"shape\":[9]}}},\"id\":\"b4b2fabe-c37a-4367-8498-86a8838107ab\",\"type\":\"ColumnDataSource\"},{\"attributes\":{\"source\":{\"id\":\"e49ae1b6-268f-4084-96c3-6aafe7506c8e\",\"type\":\"ColumnDataSource\"}},\"id\":\"1a99707e-c333-4b46-aa2a-bdddd2b0f509\",\"type\":\"CDSView\"},{\"attributes\":{\"axis_label\":\"Lamda\",\"axis_label_text_font_size\":{\"value\":\"20pt\"},\"formatter\":{\"id\":\"5d9d5968-759d-460c-9be0-8bb61da201db\",\"type\":\"BasicTickFormatter\"},\"plot\":{\"id\":\"56538332-1a25-46df-aa1c-a7e504e88114\",\"subtype\":\"Figure\",\"type\":\"Plot\"},\"ticker\":{\"id\":\"31ce87d2-3c0a-4b9b-8180-fd6466ed3e1e\",\"type\":\"BasicTicker\"}},\"id\":\"41e577ea-26f4-4b49-9917-5ddbec9d0426\",\"type\":\"LinearAxis\"},{\"attributes\":{},\"id\":\"52fdd384-efc7-42a9-93ad-be43963f3b9e\",\"type\":\"PanTool\"},{\"attributes\":{\"data_source\":{\"id\":\"e49ae1b6-268f-4084-96c3-6aafe7506c8e\",\"type\":\"ColumnDataSource\"},\"glyph\":{\"id\":\"dcc1a9f2-3296-4621-9b7b-de7a45a255e8\",\"type\":\"Line\"},\"hover_glyph\":null,\"muted_glyph\":null,\"nonselection_glyph\":{\"id\":\"34b920dd-47f9-449a-af8a-9fca5e3d056c\",\"type\":\"Line\"},\"selection_glyph\":null,\"view\":{\"id\":\"1a99707e-c333-4b46-aa2a-bdddd2b0f509\",\"type\":\"CDSView\"}},\"id\":\"5528fa11-5bf9-4f8c-982f-2e7629968e67\",\"type\":\"GlyphRenderer\"},{\"attributes\":{\"label\":{\"value\":\"GAUSSIAN\"},\"renderers\":[{\"id\":\"5528fa11-5bf9-4f8c-982f-2e7629968e67\",\"type\":\"GlyphRenderer\"}]},\"id\":\"0f7b8756-8bb1-4d1d-9822-21750da0b9f6\",\"type\":\"LegendItem\"},{\"attributes\":{},\"id\":\"5d64787d-8781-4126-8bd4-905bba5d1a8e\",\"type\":\"SaveTool\"},{\"attributes\":{\"source\":{\"id\":\"b4b2fabe-c37a-4367-8498-86a8838107ab\",\"type\":\"ColumnDataSource\"}},\"id\":\"252e380d-3f78-4b92-b37a-701fcc17a729\",\"type\":\"CDSView\"},{\"attributes\":{},\"id\":\"31ce87d2-3c0a-4b9b-8180-fd6466ed3e1e\",\"type\":\"BasicTicker\"},{\"attributes\":{\"data_source\":{\"id\":\"b4b2fabe-c37a-4367-8498-86a8838107ab\",\"type\":\"ColumnDataSource\"},\"glyph\":{\"id\":\"5858446c-126a-46bc-8d3a-5359fc805ae2\",\"type\":\"Line\"},\"hover_glyph\":null,\"muted_glyph\":null,\"nonselection_glyph\":{\"id\":\"19a2e86b-a28a-49f2-bb1e-4355dddf0b36\",\"type\":\"Line\"},\"selection_glyph\":null,\"view\":{\"id\":\"252e380d-3f78-4b92-b37a-701fcc17a729\",\"type\":\"CDSView\"}},\"id\":\"733d548a-ef2c-444f-9f5b-c0e21345c99d\",\"type\":\"GlyphRenderer\"},{\"attributes\":{\"label\":{\"value\":\"LINEAR\"},\"renderers\":[{\"id\":\"733d548a-ef2c-444f-9f5b-c0e21345c99d\",\"type\":\"GlyphRenderer\"}]},\"id\":\"4def211f-2641-4e9b-b283-c3f3fe7904cc\",\"type\":\"LegendItem\"},{\"attributes\":{\"callback\":null},\"id\":\"f0d4d15a-bf4e-4b86-aee2-6bf2ece1b87a\",\"type\":\"DataRange1d\"},{\"attributes\":{},\"id\":\"7270b2e1-2ff4-4751-a74f-cf63e8ee8fa6\",\"type\":\"BasicTickFormatter\"},{\"attributes\":{\"bottom_units\":\"screen\",\"fill_alpha\":{\"value\":0.5},\"fill_color\":{\"value\":\"lightgrey\"},\"left_units\":\"screen\",\"level\":\"overlay\",\"line_alpha\":{\"value\":1.0},\"line_color\":{\"value\":\"black\"},\"line_dash\":[4,4],\"line_width\":{\"value\":2},\"plot\":null,\"render_mode\":\"css\",\"right_units\":\"screen\",\"top_units\":\"screen\"},\"id\":\"cdde8d7e-e555-4915-9f6c-3e9f9477f923\",\"type\":\"BoxAnnotation\"},{\"attributes\":{\"line_color\":{\"value\":\"#b5cf6b\"},\"line_width\":{\"value\":4},\"x\":{\"field\":\"x\"},\"y\":{\"field\":\"y\"}},\"id\":\"dcc1a9f2-3296-4621-9b7b-de7a45a255e8\",\"type\":\"Line\"},{\"attributes\":{\"plot\":{\"id\":\"56538332-1a25-46df-aa1c-a7e504e88114\",\"subtype\":\"Figure\",\"type\":\"Plot\"},\"ticker\":{\"id\":\"31ce87d2-3c0a-4b9b-8180-fd6466ed3e1e\",\"type\":\"BasicTicker\"}},\"id\":\"e35408af-1f07-4fcf-b040-c984599fcb0a\",\"type\":\"Grid\"},{\"attributes\":{},\"id\":\"98cca0d3-3e05-4288-aa85-e5e1b1c7949f\",\"type\":\"BasicTicker\"},{\"attributes\":{\"items\":[{\"id\":\"4def211f-2641-4e9b-b283-c3f3fe7904cc\",\"type\":\"LegendItem\"},{\"id\":\"0f7b8756-8bb1-4d1d-9822-21750da0b9f6\",\"type\":\"LegendItem\"}],\"location\":\"center\",\"plot\":{\"id\":\"56538332-1a25-46df-aa1c-a7e504e88114\",\"subtype\":\"Figure\",\"type\":\"Plot\"}},\"id\":\"69843e9d-c164-43e7-b32f-8b286bd63462\",\"type\":\"Legend\"},{\"attributes\":{},\"id\":\"fe920118-e7c8-40b5-bb95-7fce572b7d8e\",\"type\":\"LinearScale\"},{\"attributes\":{},\"id\":\"1b117efc-3597-4762-a102-1d93e1c3279d\",\"type\":\"LinearScale\"}],\"root_ids\":[\"56538332-1a25-46df-aa1c-a7e504e88114\"]},\"title\":\"Bokeh Application\",\"version\":\"0.12.7\"}};\n",
       "            var render_items = [{\"docid\":\"4f54d13c-974f-414f-a0a1-919b143f49af\",\"elementid\":\"bd8f62a1-d9a7-49a3-a04f-bc37fae5545e\",\"modelid\":\"56538332-1a25-46df-aa1c-a7e504e88114\"}];\n",
       "            \n",
       "            Bokeh.embed.embed_items(docs_json, render_items);\n",
       "          };\n",
       "          if (document.readyState != \"loading\") fn();\n",
       "          else document.addEventListener(\"DOMContentLoaded\", fn);\n",
       "        })();\n",
       "      },\n",
       "      function(Bokeh) {\n",
       "      }\n",
       "    ];\n",
       "  \n",
       "    function run_inline_js() {\n",
       "      \n",
       "      if ((root.Bokeh !== undefined) || (force === true)) {\n",
       "        for (var i = 0; i < inline_js.length; i++) {\n",
       "          inline_js[i].call(root, root.Bokeh);\n",
       "        }if (force === true) {\n",
       "          display_loaded();\n",
       "        }} else if (Date.now() < root._bokeh_timeout) {\n",
       "        setTimeout(run_inline_js, 100);\n",
       "      } else if (!root._bokeh_failed_load) {\n",
       "        console.log(\"Bokeh: BokehJS failed to load within specified timeout.\");\n",
       "        root._bokeh_failed_load = true;\n",
       "      } else if (force !== true) {\n",
       "        var cell = $(document.getElementById(\"bd8f62a1-d9a7-49a3-a04f-bc37fae5545e\")).parents('.cell').data().cell;\n",
       "        cell.output_area.append_execute_result(NB_LOAD_WARNING)\n",
       "      }\n",
       "  \n",
       "    }\n",
       "  \n",
       "    if (root._bokeh_is_loading === 0) {\n",
       "      console.log(\"Bokeh: BokehJS loaded, going straight to plotting\");\n",
       "      run_inline_js();\n",
       "    } else {\n",
       "      load_libs(js_urls, function() {\n",
       "        console.log(\"Bokeh: BokehJS plotting callback run at\", now());\n",
       "        run_inline_js();\n",
       "      });\n",
       "    }\n",
       "  }(window));\n",
       "</script>"
      ]
     },
     "metadata": {},
     "output_type": "execute_result"
    }
   ],
   "source": [
    "# Show the plot\n",
    "model_param_analysis(data = yacht_hydro_regressor.parameters_list, title = \"Yachat Hydro Dataset\", width = 800,  \n",
    "                         height = 600, xlab = \"Lamda\", ylab = \"Mean Square Error\", line_width = 4)"
   ]
  },
  {
   "cell_type": "markdown",
   "metadata": {},
   "source": [
    "This is interesting. If you see the plot you might decide that gaussian function might be having best value at lamda around 1. But if you zoom and see the plot linear basis function has much lower value at lamda = 10. Thus linear basis function is better performing for gaussian at lambda value equal to 10 for this yachat hydro data set. And the best lamda value we have selected for our final model is 10. And thus we selected linear basis with lamda value as 10 for our model."
   ]
  },
  {
   "cell_type": "markdown",
   "metadata": {},
   "source": [
    "## Concrete slump dataset"
   ]
  },
  {
   "cell_type": "code",
   "execution_count": 17,
   "metadata": {},
   "outputs": [
    {
     "data": {
      "text/plain": [
       "array([[ 13.20889869,  40.6643547 ,  41.45456363],\n",
       "       [  9.47096006,  30.39801961,  38.82278299],\n",
       "       [ 35.90407116,  92.67574756,  25.77788643],\n",
       "       [ 23.08920266,  57.39856206,  29.78983861],\n",
       "       [ 16.17209085,  40.38097971,  39.51512545],\n",
       "       [ 14.13840173,  39.47591897,  36.33942465],\n",
       "       [ 27.44532623,  70.48655395,  31.91084908],\n",
       "       [ 16.70645531,  40.95980875,  21.17522819],\n",
       "       [ 14.61037275,  39.74694377,  37.32890858],\n",
       "       [ 20.94497296,  63.88409334,  44.68178252],\n",
       "       [ 20.76697335,  58.97714942,  42.21273908],\n",
       "       [ 17.77988688,  54.11335284,  38.11553217],\n",
       "       [ 25.48940007,  71.55320205,  30.44791725],\n",
       "       [ 24.21239932,  60.17300306,  17.47401764],\n",
       "       [ 17.68396282,  46.35670145,  34.46348158],\n",
       "       [ 22.31648071,  60.34223297,  31.31118298],\n",
       "       [ 21.77312002,  63.16181578,  47.60858486],\n",
       "       [ 23.45462449,  64.45497984,  42.56521536],\n",
       "       [ 20.63679437,  50.5625387 ,  36.84569472],\n",
       "       [ 23.91394107,  58.21924198,  31.89755685],\n",
       "       [ 20.05193644,  52.35241378,  34.9949077 ],\n",
       "       [ 23.11322889,  63.09309338,  33.20393841],\n",
       "       [ 12.72383245,  35.58734193,  40.26298456],\n",
       "       [ 19.06448526,  56.02955747,  38.88439273],\n",
       "       [ 12.72214878,  39.58627355,  43.54838843],\n",
       "       [ 12.24299545,  36.63170821,  49.66047697]])"
      ]
     },
     "execution_count": 17,
     "metadata": {},
     "output_type": "execute_result"
    }
   ],
   "source": [
    "concrete_slump_regressor = Regression()\n",
    "concrete_slump_data_process = DataProcessing()\n",
    "concrete_slump_df_train, concrete_slump_df_test = concrete_slump_data_process.train_test_split(concrete_slump_df)\n",
    "prediction = concrete_slump_regressor.my_regression(concrete_slump_df_train, concrete_slump_df_test.iloc[:, 0:-3], 3)\n",
    "prediction"
   ]
  },
  {
   "cell_type": "markdown",
   "metadata": {},
   "source": [
    "Above we have the prediction values for the concrete dataset using the selected model on the test set. Each column of the array represents the prediction for each of the three output values of concrete slump dataset. Lets us see what are parameters used for the model using the model param variable of the regressor class object."
   ]
  },
  {
   "cell_type": "code",
   "execution_count": 18,
   "metadata": {},
   "outputs": [
    {
     "data": {
      "text/plain": [
       "[{'kernel': 'gaussian',\n",
       "  'lamda': 0,\n",
       "  'lmse': 204.17858171296729,\n",
       "  'weights': array([[-1907.10615157, -4886.679646  ,  2199.20283645],\n",
       "         [-1575.26809789, -1543.28770302,  1067.64196235],\n",
       "         [ -481.90347933,  -162.94041964,   531.0106334 ],\n",
       "         [-1350.63734208, -3234.77550261,  1739.3611437 ],\n",
       "         [ 2150.15656111,  4716.38228893, -2452.31684967],\n",
       "         [ -553.4238615 ,  -797.41533925,   368.45154025],\n",
       "         [ 1816.91376834,  4082.41909882, -1849.58460534],\n",
       "         [ 2318.76131361,  2174.31334234, -1722.13423763],\n",
       "         [  559.4798499 ,   396.58533667,  -409.75827288],\n",
       "         [-1052.43066878,  -826.29232017,   638.7306044 ]])}]"
      ]
     },
     "execution_count": 18,
     "metadata": {},
     "output_type": "execute_result"
    }
   ],
   "source": [
    "concrete_slump_regressor.model_param"
   ]
  },
  {
   "cell_type": "markdown",
   "metadata": {},
   "source": [
    "This dataset is somewhat different from the previous two. Since it had three output values the Least mean square error is calculated as a average over all the three outputs while during the model selection. By doing that over 10 fold cross validation, we have the following bst model parameters\n",
    "\n",
    "- Kernel : gaussian\n",
    "- Lamda value : 0\n",
    "- Least Mean Square Error value: ~204.18\n",
    "\n",
    "Lets us the see how the best model is performing over the test data we set apart at first itself using least mean square value."
   ]
  },
  {
   "cell_type": "code",
   "execution_count": 19,
   "metadata": {},
   "outputs": [
    {
     "name": "stdout",
     "output_type": "stream",
     "text": [
      "Least mean square errors:\n",
      "SLUMP: 82.42\n",
      "FLOW: 321.81\n",
      "Compressive Strength: 14.72\n"
     ]
    }
   ],
   "source": [
    "lmse_list = []\n",
    "for i in range(0, 3):\n",
    "    lmse = concrete_slump_regressor.lmse(concrete_slump_df_test.iloc[:, -3 + i].values.reshape(len(concrete_slump_df_test), ), \n",
    "                          prediction[:, i].reshape(len(prediction), ))\n",
    "    lmse_list.append(round(lmse, 2))\n",
    "\n",
    "print(\"Least mean square errors:\")\n",
    "print(\"SLUMP:\", lmse_list[0])\n",
    "print(\"FLOW:\", lmse_list[1])\n",
    "print(\"Compressive Strength:\", lmse_list[2])"
   ]
  },
  {
   "cell_type": "markdown",
   "metadata": {},
   "source": [
    "Thus we have above the Least Mean Square Error on the test set using Gaussian basis function and lamda as 0. In addition, I have done small analysis over the cross validation data of this dataframe using some visualization to say why and how I selected Gaussian to be my basis linear function and lamda value for the model. I will be using the previously created custom plot function to do this. Remeber that the least mean square error is average over all the indepedent variables in the dataset."
   ]
  },
  {
   "cell_type": "code",
   "execution_count": 20,
   "metadata": {},
   "outputs": [
    {
     "data": {
      "text/html": [
       "\n",
       "\n",
       "    <div class=\"bk-root\">\n",
       "        <div class=\"bk-plotdiv\" id=\"30ea6bb5-8879-4d2c-81c5-1f64448e77ab\"></div>\n",
       "    </div>\n",
       "<script type=\"text/javascript\">\n",
       "  \n",
       "  (function(root) {\n",
       "    function now() {\n",
       "      return new Date();\n",
       "    }\n",
       "  \n",
       "    var force = false;\n",
       "  \n",
       "    if (typeof (root._bokeh_onload_callbacks) === \"undefined\" || force === true) {\n",
       "      root._bokeh_onload_callbacks = [];\n",
       "      root._bokeh_is_loading = undefined;\n",
       "    }\n",
       "  \n",
       "  \n",
       "    \n",
       "    if (typeof (root._bokeh_timeout) === \"undefined\" || force === true) {\n",
       "      root._bokeh_timeout = Date.now() + 0;\n",
       "      root._bokeh_failed_load = false;\n",
       "    }\n",
       "  \n",
       "    var NB_LOAD_WARNING = {'data': {'text/html':\n",
       "       \"<div style='background-color: #fdd'>\\n\"+\n",
       "       \"<p>\\n\"+\n",
       "       \"BokehJS does not appear to have successfully loaded. If loading BokehJS from CDN, this \\n\"+\n",
       "       \"may be due to a slow or bad network connection. Possible fixes:\\n\"+\n",
       "       \"</p>\\n\"+\n",
       "       \"<ul>\\n\"+\n",
       "       \"<li>re-rerun `output_notebook()` to attempt to load from CDN again, or</li>\\n\"+\n",
       "       \"<li>use INLINE resources instead, as so:</li>\\n\"+\n",
       "       \"</ul>\\n\"+\n",
       "       \"<code>\\n\"+\n",
       "       \"from bokeh.resources import INLINE\\n\"+\n",
       "       \"output_notebook(resources=INLINE)\\n\"+\n",
       "       \"</code>\\n\"+\n",
       "       \"</div>\"}};\n",
       "  \n",
       "    function display_loaded() {\n",
       "      if (root.Bokeh !== undefined) {\n",
       "        var el = document.getElementById(\"30ea6bb5-8879-4d2c-81c5-1f64448e77ab\");\n",
       "        if (el != null) {\n",
       "          el.textContent = \"BokehJS \" + Bokeh.version + \" successfully loaded.\";\n",
       "        }\n",
       "      } else if (Date.now() < root._bokeh_timeout) {\n",
       "        setTimeout(display_loaded, 100)\n",
       "      }\n",
       "    }\n",
       "  \n",
       "  \n",
       "    function run_callbacks() {\n",
       "      try {\n",
       "        root._bokeh_onload_callbacks.forEach(function(callback) { callback() });\n",
       "      }\n",
       "      finally {\n",
       "        delete root._bokeh_onload_callbacks\n",
       "      }\n",
       "      console.info(\"Bokeh: all callbacks have finished\");\n",
       "    }\n",
       "  \n",
       "    function load_libs(js_urls, callback) {\n",
       "      root._bokeh_onload_callbacks.push(callback);\n",
       "      if (root._bokeh_is_loading > 0) {\n",
       "        console.log(\"Bokeh: BokehJS is being loaded, scheduling callback at\", now());\n",
       "        return null;\n",
       "      }\n",
       "      if (js_urls == null || js_urls.length === 0) {\n",
       "        run_callbacks();\n",
       "        return null;\n",
       "      }\n",
       "      console.log(\"Bokeh: BokehJS not loaded, scheduling load and callback at\", now());\n",
       "      root._bokeh_is_loading = js_urls.length;\n",
       "      for (var i = 0; i < js_urls.length; i++) {\n",
       "        var url = js_urls[i];\n",
       "        var s = document.createElement('script');\n",
       "        s.src = url;\n",
       "        s.async = false;\n",
       "        s.onreadystatechange = s.onload = function() {\n",
       "          root._bokeh_is_loading--;\n",
       "          if (root._bokeh_is_loading === 0) {\n",
       "            console.log(\"Bokeh: all BokehJS libraries loaded\");\n",
       "            run_callbacks()\n",
       "          }\n",
       "        };\n",
       "        s.onerror = function() {\n",
       "          console.warn(\"failed to load library \" + url);\n",
       "        };\n",
       "        console.log(\"Bokeh: injecting script tag for BokehJS library: \", url);\n",
       "        document.getElementsByTagName(\"head\")[0].appendChild(s);\n",
       "      }\n",
       "    };var element = document.getElementById(\"30ea6bb5-8879-4d2c-81c5-1f64448e77ab\");\n",
       "    if (element == null) {\n",
       "      console.log(\"Bokeh: ERROR: autoload.js configured with elementid '30ea6bb5-8879-4d2c-81c5-1f64448e77ab' but no matching script tag was found. \")\n",
       "      return false;\n",
       "    }\n",
       "  \n",
       "    var js_urls = [];\n",
       "  \n",
       "    var inline_js = [\n",
       "      function(Bokeh) {\n",
       "        (function() {\n",
       "          var fn = function() {\n",
       "            var docs_json = {\"b2e37666-3346-4e34-8207-8330b11f6460\":{\"roots\":{\"references\":[{\"attributes\":{\"line_alpha\":{\"value\":0.1},\"line_color\":{\"value\":\"#1f77b4\"},\"line_width\":{\"value\":4},\"x\":{\"field\":\"x\"},\"y\":{\"field\":\"y\"}},\"id\":\"f7006d13-3614-499b-837c-32237161c614\",\"type\":\"Line\"},{\"attributes\":{\"bottom_units\":\"screen\",\"fill_alpha\":{\"value\":0.5},\"fill_color\":{\"value\":\"lightgrey\"},\"left_units\":\"screen\",\"level\":\"overlay\",\"line_alpha\":{\"value\":1.0},\"line_color\":{\"value\":\"black\"},\"line_dash\":[4,4],\"line_width\":{\"value\":2},\"plot\":null,\"render_mode\":\"css\",\"right_units\":\"screen\",\"top_units\":\"screen\"},\"id\":\"8ae34075-06c6-4cd2-8cbe-a9ed124c69db\",\"type\":\"BoxAnnotation\"},{\"attributes\":{\"callback\":null},\"id\":\"4f04dff6-e6b7-4b40-ab85-373605b67a10\",\"type\":\"DataRange1d\"},{\"attributes\":{\"line_alpha\":{\"value\":0.1},\"line_color\":{\"value\":\"#1f77b4\"},\"line_width\":{\"value\":4},\"x\":{\"field\":\"x\"},\"y\":{\"field\":\"y\"}},\"id\":\"8f7f4dff-3379-4a33-ab9e-75669f8a25ed\",\"type\":\"Line\"},{\"attributes\":{\"callback\":null},\"id\":\"00baa457-833c-4ea8-acf0-16c862323f4e\",\"type\":\"DataRange1d\"},{\"attributes\":{\"data_source\":{\"id\":\"c6565dd5-2438-46ab-8fb9-001b5268b1ad\",\"type\":\"ColumnDataSource\"},\"glyph\":{\"id\":\"c7f98ceb-abd4-4c99-a76b-1b508d5fc644\",\"type\":\"Line\"},\"hover_glyph\":null,\"muted_glyph\":null,\"nonselection_glyph\":{\"id\":\"f7006d13-3614-499b-837c-32237161c614\",\"type\":\"Line\"},\"selection_glyph\":null,\"view\":{\"id\":\"f78b9b5e-4725-4e50-b141-f044b0571964\",\"type\":\"CDSView\"}},\"id\":\"51b5af2d-0040-427a-88b5-56b998837049\",\"type\":\"GlyphRenderer\"},{\"attributes\":{\"label\":{\"value\":\"LINEAR\"},\"renderers\":[{\"id\":\"a4cab036-526b-41da-8e0b-0cac8402fbf3\",\"type\":\"GlyphRenderer\"}]},\"id\":\"a989a6b5-81be-429c-ab93-91757d9a0336\",\"type\":\"LegendItem\"},{\"attributes\":{\"dimension\":1,\"plot\":{\"id\":\"a5a01d8a-8d9b-4224-ae6d-28084275b336\",\"subtype\":\"Figure\",\"type\":\"Plot\"},\"ticker\":{\"id\":\"cc0b2773-1402-4e5a-b200-440cb344c823\",\"type\":\"BasicTicker\"}},\"id\":\"becda63a-bca1-453c-ae40-d343549c1089\",\"type\":\"Grid\"},{\"attributes\":{},\"id\":\"e1b79a83-938c-4775-9af7-43dba895b6db\",\"type\":\"HelpTool\"},{\"attributes\":{\"below\":[{\"id\":\"0f11a344-f801-4430-bcc4-4cb1da7dd2e2\",\"type\":\"LinearAxis\"}],\"left\":[{\"id\":\"89be538c-4690-4d0b-8252-d8bf927fc41b\",\"type\":\"LinearAxis\"}],\"plot_width\":800,\"renderers\":[{\"id\":\"0f11a344-f801-4430-bcc4-4cb1da7dd2e2\",\"type\":\"LinearAxis\"},{\"id\":\"bdddba55-3646-44d8-86cc-5f5ec87ecd2d\",\"type\":\"Grid\"},{\"id\":\"89be538c-4690-4d0b-8252-d8bf927fc41b\",\"type\":\"LinearAxis\"},{\"id\":\"becda63a-bca1-453c-ae40-d343549c1089\",\"type\":\"Grid\"},{\"id\":\"8ae34075-06c6-4cd2-8cbe-a9ed124c69db\",\"type\":\"BoxAnnotation\"},{\"id\":\"8bf1e925-01f3-4f18-a963-d1057c438090\",\"type\":\"Legend\"},{\"id\":\"a4cab036-526b-41da-8e0b-0cac8402fbf3\",\"type\":\"GlyphRenderer\"},{\"id\":\"51b5af2d-0040-427a-88b5-56b998837049\",\"type\":\"GlyphRenderer\"}],\"title\":{\"id\":\"11b030da-d368-4aa5-89b9-0bc281019a31\",\"type\":\"Title\"},\"toolbar\":{\"id\":\"c7bccb9d-59fb-41d1-acbb-159c0ec55013\",\"type\":\"Toolbar\"},\"x_range\":{\"id\":\"00baa457-833c-4ea8-acf0-16c862323f4e\",\"type\":\"DataRange1d\"},\"x_scale\":{\"id\":\"87ad3995-0dd9-43e1-a81c-97ddb09899e0\",\"type\":\"LinearScale\"},\"y_range\":{\"id\":\"4f04dff6-e6b7-4b40-ab85-373605b67a10\",\"type\":\"DataRange1d\"},\"y_scale\":{\"id\":\"978e4b3c-92c6-4dca-8cee-98f634bcb1e5\",\"type\":\"LinearScale\"}},\"id\":\"a5a01d8a-8d9b-4224-ae6d-28084275b336\",\"subtype\":\"Figure\",\"type\":\"Plot\"},{\"attributes\":{\"items\":[{\"id\":\"a989a6b5-81be-429c-ab93-91757d9a0336\",\"type\":\"LegendItem\"},{\"id\":\"167b3047-0b18-49a9-a018-c8cf66194690\",\"type\":\"LegendItem\"}],\"location\":\"center\",\"plot\":{\"id\":\"a5a01d8a-8d9b-4224-ae6d-28084275b336\",\"subtype\":\"Figure\",\"type\":\"Plot\"}},\"id\":\"8bf1e925-01f3-4f18-a963-d1057c438090\",\"type\":\"Legend\"},{\"attributes\":{\"line_color\":{\"value\":\"#6b6ecf\"},\"line_width\":{\"value\":4},\"x\":{\"field\":\"x\"},\"y\":{\"field\":\"y\"}},\"id\":\"e4dea21e-c398-4fb1-9b4a-e566717ba6d6\",\"type\":\"Line\"},{\"attributes\":{},\"id\":\"87ad3995-0dd9-43e1-a81c-97ddb09899e0\",\"type\":\"LinearScale\"},{\"attributes\":{\"active_drag\":\"auto\",\"active_inspect\":\"auto\",\"active_scroll\":\"auto\",\"active_tap\":\"auto\",\"tools\":[{\"id\":\"8c09504d-b238-40ac-aa43-5787f4d6a21f\",\"type\":\"PanTool\"},{\"id\":\"3e5e245e-88c0-47ba-bb40-5b9c24c2e17a\",\"type\":\"WheelZoomTool\"},{\"id\":\"6677f013-a105-4367-a3ef-57835dc577f6\",\"type\":\"BoxZoomTool\"},{\"id\":\"449759a5-7841-4d93-ad18-7d88e1a82cf0\",\"type\":\"SaveTool\"},{\"id\":\"ecef396a-dede-4329-973f-7ecab179539f\",\"type\":\"ResetTool\"},{\"id\":\"e1b79a83-938c-4775-9af7-43dba895b6db\",\"type\":\"HelpTool\"}]},\"id\":\"c7bccb9d-59fb-41d1-acbb-159c0ec55013\",\"type\":\"Toolbar\"},{\"attributes\":{},\"id\":\"3e5e245e-88c0-47ba-bb40-5b9c24c2e17a\",\"type\":\"WheelZoomTool\"},{\"attributes\":{\"label\":{\"value\":\"GAUSSIAN\"},\"renderers\":[{\"id\":\"51b5af2d-0040-427a-88b5-56b998837049\",\"type\":\"GlyphRenderer\"}]},\"id\":\"167b3047-0b18-49a9-a018-c8cf66194690\",\"type\":\"LegendItem\"},{\"attributes\":{},\"id\":\"ecef396a-dede-4329-973f-7ecab179539f\",\"type\":\"ResetTool\"},{\"attributes\":{\"axis_label\":\"Mean Square Error\",\"axis_label_text_font_size\":{\"value\":\"20pt\"},\"formatter\":{\"id\":\"2011fd63-6c2e-4160-a548-e47f00ec5ca3\",\"type\":\"BasicTickFormatter\"},\"plot\":{\"id\":\"a5a01d8a-8d9b-4224-ae6d-28084275b336\",\"subtype\":\"Figure\",\"type\":\"Plot\"},\"ticker\":{\"id\":\"cc0b2773-1402-4e5a-b200-440cb344c823\",\"type\":\"BasicTicker\"}},\"id\":\"89be538c-4690-4d0b-8252-d8bf927fc41b\",\"type\":\"LinearAxis\"},{\"attributes\":{\"align\":\"center\",\"plot\":null,\"text\":\"Concrete slump Dataset\",\"text_font_size\":{\"value\":\"20pt\"}},\"id\":\"11b030da-d368-4aa5-89b9-0bc281019a31\",\"type\":\"Title\"},{\"attributes\":{\"plot\":{\"id\":\"a5a01d8a-8d9b-4224-ae6d-28084275b336\",\"subtype\":\"Figure\",\"type\":\"Plot\"},\"ticker\":{\"id\":\"de009104-02f9-409f-a31d-a4e81d43c466\",\"type\":\"BasicTicker\"}},\"id\":\"bdddba55-3646-44d8-86cc-5f5ec87ecd2d\",\"type\":\"Grid\"},{\"attributes\":{},\"id\":\"449759a5-7841-4d93-ad18-7d88e1a82cf0\",\"type\":\"SaveTool\"},{\"attributes\":{\"data_source\":{\"id\":\"134824b1-49f7-4ed8-8ab1-ebf64cba9e94\",\"type\":\"ColumnDataSource\"},\"glyph\":{\"id\":\"e4dea21e-c398-4fb1-9b4a-e566717ba6d6\",\"type\":\"Line\"},\"hover_glyph\":null,\"muted_glyph\":null,\"nonselection_glyph\":{\"id\":\"8f7f4dff-3379-4a33-ab9e-75669f8a25ed\",\"type\":\"Line\"},\"selection_glyph\":null,\"view\":{\"id\":\"19c59945-a07f-42bd-9cad-961378d2c30f\",\"type\":\"CDSView\"}},\"id\":\"a4cab036-526b-41da-8e0b-0cac8402fbf3\",\"type\":\"GlyphRenderer\"},{\"attributes\":{\"source\":{\"id\":\"134824b1-49f7-4ed8-8ab1-ebf64cba9e94\",\"type\":\"ColumnDataSource\"}},\"id\":\"19c59945-a07f-42bd-9cad-961378d2c30f\",\"type\":\"CDSView\"},{\"attributes\":{},\"id\":\"cc987761-bea6-450c-a8d7-665fb522f010\",\"type\":\"BasicTickFormatter\"},{\"attributes\":{},\"id\":\"de009104-02f9-409f-a31d-a4e81d43c466\",\"type\":\"BasicTicker\"},{\"attributes\":{\"callback\":null,\"column_names\":[\"x\",\"y\"],\"data\":{\"x\":{\"__ndarray__\":\"AAAAAAAAAAAtQxzr4jYaP/yp8dJNYlA/exSuR+F6hD+amZmZmZm5PwAAAAAAAPA/AAAAAAAAJEAAAAAAAABZQA==\",\"dtype\":\"float64\",\"shape\":[8]},\"y\":{\"__ndarray__\":\"UkehToCSbEDB32zLbJJsQJWpxCm+kWxAC/+0pkeLbEDOEOKBb2FsQFJHoU6AkmxAqL5kKvcvbEDIBlvuR3VzQPkXlhpfFZ9A\",\"dtype\":\"float64\",\"shape\":[9]}}},\"id\":\"134824b1-49f7-4ed8-8ab1-ebf64cba9e94\",\"type\":\"ColumnDataSource\"},{\"attributes\":{\"line_color\":{\"value\":\"#b5cf6b\"},\"line_width\":{\"value\":4},\"x\":{\"field\":\"x\"},\"y\":{\"field\":\"y\"}},\"id\":\"c7f98ceb-abd4-4c99-a76b-1b508d5fc644\",\"type\":\"Line\"},{\"attributes\":{},\"id\":\"2011fd63-6c2e-4160-a548-e47f00ec5ca3\",\"type\":\"BasicTickFormatter\"},{\"attributes\":{\"overlay\":{\"id\":\"8ae34075-06c6-4cd2-8cbe-a9ed124c69db\",\"type\":\"BoxAnnotation\"}},\"id\":\"6677f013-a105-4367-a3ef-57835dc577f6\",\"type\":\"BoxZoomTool\"},{\"attributes\":{\"source\":{\"id\":\"c6565dd5-2438-46ab-8fb9-001b5268b1ad\",\"type\":\"ColumnDataSource\"}},\"id\":\"f78b9b5e-4725-4e50-b141-f044b0571964\",\"type\":\"CDSView\"},{\"attributes\":{},\"id\":\"cc0b2773-1402-4e5a-b200-440cb344c823\",\"type\":\"BasicTicker\"},{\"attributes\":{\"axis_label\":\"Lamda\",\"axis_label_text_font_size\":{\"value\":\"20pt\"},\"formatter\":{\"id\":\"cc987761-bea6-450c-a8d7-665fb522f010\",\"type\":\"BasicTickFormatter\"},\"plot\":{\"id\":\"a5a01d8a-8d9b-4224-ae6d-28084275b336\",\"subtype\":\"Figure\",\"type\":\"Plot\"},\"ticker\":{\"id\":\"de009104-02f9-409f-a31d-a4e81d43c466\",\"type\":\"BasicTicker\"}},\"id\":\"0f11a344-f801-4430-bcc4-4cb1da7dd2e2\",\"type\":\"LinearAxis\"},{\"attributes\":{},\"id\":\"978e4b3c-92c6-4dca-8cee-98f634bcb1e5\",\"type\":\"LinearScale\"},{\"attributes\":{},\"id\":\"8c09504d-b238-40ac-aa43-5787f4d6a21f\",\"type\":\"PanTool\"},{\"attributes\":{\"callback\":null,\"column_names\":[\"x\",\"y\"],\"data\":{\"x\":{\"__ndarray__\":\"AAAAAAAAAAAtQxzr4jYaP/yp8dJNYlA/exSuR+F6hD+amZmZmZm5PwAAAAAAAPA/AAAAAAAAJEAAAAAAAABZQA==\",\"dtype\":\"float64\",\"shape\":[8]},\"y\":{\"__ndarray__\":\"dhv/8LaFaUBPl9aP1zRqQDf3AoqQhWpAEngOIlG6bkAZo17Ks5p1QHYb//C2hWlAHv+CDs5MeUCWOsEE1ap6QKMxqgz3r4BA\",\"dtype\":\"float64\",\"shape\":[9]}}},\"id\":\"c6565dd5-2438-46ab-8fb9-001b5268b1ad\",\"type\":\"ColumnDataSource\"}],\"root_ids\":[\"a5a01d8a-8d9b-4224-ae6d-28084275b336\"]},\"title\":\"Bokeh Application\",\"version\":\"0.12.7\"}};\n",
       "            var render_items = [{\"docid\":\"b2e37666-3346-4e34-8207-8330b11f6460\",\"elementid\":\"30ea6bb5-8879-4d2c-81c5-1f64448e77ab\",\"modelid\":\"a5a01d8a-8d9b-4224-ae6d-28084275b336\"}];\n",
       "            \n",
       "            Bokeh.embed.embed_items(docs_json, render_items);\n",
       "          };\n",
       "          if (document.readyState != \"loading\") fn();\n",
       "          else document.addEventListener(\"DOMContentLoaded\", fn);\n",
       "        })();\n",
       "      },\n",
       "      function(Bokeh) {\n",
       "      }\n",
       "    ];\n",
       "  \n",
       "    function run_inline_js() {\n",
       "      \n",
       "      if ((root.Bokeh !== undefined) || (force === true)) {\n",
       "        for (var i = 0; i < inline_js.length; i++) {\n",
       "          inline_js[i].call(root, root.Bokeh);\n",
       "        }if (force === true) {\n",
       "          display_loaded();\n",
       "        }} else if (Date.now() < root._bokeh_timeout) {\n",
       "        setTimeout(run_inline_js, 100);\n",
       "      } else if (!root._bokeh_failed_load) {\n",
       "        console.log(\"Bokeh: BokehJS failed to load within specified timeout.\");\n",
       "        root._bokeh_failed_load = true;\n",
       "      } else if (force !== true) {\n",
       "        var cell = $(document.getElementById(\"30ea6bb5-8879-4d2c-81c5-1f64448e77ab\")).parents('.cell').data().cell;\n",
       "        cell.output_area.append_execute_result(NB_LOAD_WARNING)\n",
       "      }\n",
       "  \n",
       "    }\n",
       "  \n",
       "    if (root._bokeh_is_loading === 0) {\n",
       "      console.log(\"Bokeh: BokehJS loaded, going straight to plotting\");\n",
       "      run_inline_js();\n",
       "    } else {\n",
       "      load_libs(js_urls, function() {\n",
       "        console.log(\"Bokeh: BokehJS plotting callback run at\", now());\n",
       "        run_inline_js();\n",
       "      });\n",
       "    }\n",
       "  }(window));\n",
       "</script>"
      ]
     },
     "metadata": {},
     "output_type": "execute_result"
    }
   ],
   "source": [
    "# Show the plot\n",
    "model_param_analysis(data = concrete_slump_regressor.parameters_list, title = \"Concrete slump Dataset\", width = 800,  \n",
    "                         height = 600, xlab = \"Lamda\", ylab = \"Mean Square Error\", line_width = 4)"
   ]
  },
  {
   "cell_type": "markdown",
   "metadata": {},
   "source": [
    "From the plot it is so obvious that the gaussian is out performing the linear basis function with the concrete slump dataset. We can see that the gaussian is reaching two lower points related to linear basis function at 0 and 1. \n",
    "\n",
    "When I was checking the lmse value of training the whole set with linear basis function and lamda as 0 the lmse value was bit lower compared to the above lmse got using gaussian model. However, considering the real world scanario it is always better to go with model parameters which we got using cross validation.\n",
    "\n",
    "Thus the final best model I have selected was with Gaussian basis function and lamda value as 0."
   ]
  },
  {
   "cell_type": "markdown",
   "metadata": {},
   "source": [
    "## Proof testing mode"
   ]
  },
  {
   "cell_type": "markdown",
   "metadata": {},
   "source": [
    "In order to just do double chack the lmse value i got from my regression function, I used sklearn regression to see how close i am getting results in regards to sklearn."
   ]
  },
  {
   "cell_type": "code",
   "execution_count": 21,
   "metadata": {
    "collapsed": true
   },
   "outputs": [],
   "source": [
    "from sklearn import linear_model\n",
    "from sklearn.metrics import mean_squared_error\n",
    "\n",
    "def sklearn_regression(trainX, testX, noutputs = 1):\n",
    "    # Create linear regression object\n",
    "    regr = linear_model.LinearRegression()\n",
    "    \n",
    "    # Create DataProcessing class object \n",
    "    data_process = DataProcessing()\n",
    "    \n",
    "    x_train, y_train = data_process.pred_target_split(trainX, noutputs = noutputs)\n",
    "\n",
    "    # Train the model using the training sets\n",
    "    regr.fit(x_train, y_train)\n",
    "\n",
    "    # Make predictions using the testing set\n",
    "    pred = regr.predict(testX.iloc[:, 0:-noutputs].values)\n",
    "\n",
    "    print(\"Mean squared error: %.2f\"\n",
    "          % mean_squared_error(testX.iloc[:, -noutputs].values, pred))"
   ]
  },
  {
   "cell_type": "markdown",
   "metadata": {},
   "source": [
    "## Airfoil dataset"
   ]
  },
  {
   "cell_type": "code",
   "execution_count": 22,
   "metadata": {},
   "outputs": [
    {
     "name": "stdout",
     "output_type": "stream",
     "text": [
      "Mean squared error: 22.36\n"
     ]
    }
   ],
   "source": [
    "airfoil_df_train, airfoil_df_test = airfoil_data_process.train_test_split(airfoil_df)\n",
    "sklearn_regression(airfoil_df_train, airfoil_df_test)"
   ]
  },
  {
   "cell_type": "markdown",
   "metadata": {},
   "source": [
    "I got very close value to this for my regression function."
   ]
  },
  {
   "cell_type": "markdown",
   "metadata": {},
   "source": [
    "## Yachat hydro dataset"
   ]
  },
  {
   "cell_type": "code",
   "execution_count": 23,
   "metadata": {},
   "outputs": [
    {
     "name": "stdout",
     "output_type": "stream",
     "text": [
      "Mean squared error: 73.66\n"
     ]
    }
   ],
   "source": [
    "yacht_hydro_df_train, yacht_hydro_df_test = yacht_hydro_data_process.train_test_split(yacht_hydro_df)\n",
    "sklearn_regression(yacht_hydro_df_train, yacht_hydro_df_test)"
   ]
  },
  {
   "cell_type": "markdown",
   "metadata": {},
   "source": [
    "I got very close value to this for my regression function."
   ]
  },
  {
   "cell_type": "markdown",
   "metadata": {},
   "source": [
    "## Concrete slump dataset"
   ]
  },
  {
   "cell_type": "code",
   "execution_count": 24,
   "metadata": {},
   "outputs": [
    {
     "name": "stdout",
     "output_type": "stream",
     "text": [
      "Mean squared error: 74.01\n",
      "Mean squared error: 217.23\n",
      "Mean squared error: 8.35\n"
     ]
    }
   ],
   "source": [
    "concrete_slump_df_train, concrete_slump_df_test = concrete_slump_data_process.train_test_split(concrete_slump_df)\n",
    "\n",
    "# Create linear regression object\n",
    "regr = linear_model.LinearRegression()\n",
    "\n",
    "x_train, y_train = concrete_slump_data_process.pred_target_split(concrete_slump_df_train, noutputs = 3)\n",
    "\n",
    "for i in range(0, 3):\n",
    "    # Train the model using the training sets\n",
    "    regr.fit(x_train, y_train.iloc[:, i])\n",
    "\n",
    "    # Make predictions using the testing set\n",
    "    pred = regr.predict(concrete_slump_df_test.iloc[:, 0:-3].values)\n",
    "\n",
    "    print(\"Mean squared error: %.2f\"\n",
    "          % mean_squared_error(concrete_slump_df_test.iloc[:, i-3].values, pred))"
   ]
  },
  {
   "cell_type": "markdown",
   "metadata": {},
   "source": [
    "I got very close value to this for my regression function."
   ]
  },
  {
   "cell_type": "markdown",
   "metadata": {},
   "source": [
    "### Rubric:\n",
    "\n",
    "- (30 points) - The regression works and you produce some kind of result.\n",
    "- (30 points) - Are the results reasonable? Do you get squared errors that are close to mine? (I'll release linear basis function sqaured errors)\n",
    "- (20 points) - Can you do better than linear basis function prediction?\n",
    "- (20 points) - Is your code commented? Is your analysis strong? Do your plots look nice? Does your overall document look nice?"
   ]
  }
 ],
 "metadata": {
  "kernelspec": {
   "display_name": "Python 3",
   "language": "python",
   "name": "python3"
  },
  "language_info": {
   "codemirror_mode": {
    "name": "ipython",
    "version": 3
   },
   "file_extension": ".py",
   "mimetype": "text/x-python",
   "name": "python",
   "nbconvert_exporter": "python",
   "pygments_lexer": "ipython3",
   "version": "3.6.2"
  }
 },
 "nbformat": 4,
 "nbformat_minor": 2
}
